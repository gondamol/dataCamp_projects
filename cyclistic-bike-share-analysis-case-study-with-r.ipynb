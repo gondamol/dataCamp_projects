{
 "cells": [
  {
   "cell_type": "markdown",
   "id": "3e9271a2",
   "metadata": {
    "papermill": {
     "duration": 0.015304,
     "end_time": "2024-01-19T10:13:55.377398",
     "exception": false,
     "start_time": "2024-01-19T10:13:55.362094",
     "status": "completed"
    },
    "tags": []
   },
   "source": [
    "# Introduction\n",
    "\n",
    "The case study presents a data analysis project focusing on Cylclistic, a bike share company based in Chicago. As part of the data analytics team, the aim of the project is to analyse past data to come with insights so as to design a new digital marketing strategy aimed at converting casual riders into annual members. The case study will follow the data analysis process which encompases the following phases:\n",
    "\n",
    "* Ask, \n",
    "* Prepapre\n",
    "* Process\n",
    "* Analyze\n",
    "* Share \n",
    "* Act\n",
    "\n",
    "# Scenario\n",
    "\n",
    "You are a junior data analyst working on the marketing analyst team at Cyclistic, a bike-share company in Chicago. The director of marketing believes the company’s future success depends on maximizing the number of annual memberships. Therefore, your team wants to understand how casual riders and annual members use Cyclistic bikes differently. From these insights, your team will design a new marketing strategy to convert casual riders into annual members. But first, Cyclistic executives must approve your recommendations, so they must be backed up with compelling data insights and professional data visualizations.\n",
    "\n",
    "\n",
    "# Ask Phase \n",
    "\n",
    "## Business Task\n",
    "\n",
    "Cyclistic’s finance analysts have concluded that annual members are much more profitable than casual riders and as such the pricing flexibility helps the company attract more customers. The director of marketing also believes that maximizing the number of annual members will be key to future growth in the long term. The company's goal as stated by the director of marketing is to design marketing strategies aimed at converting casual riders into annual memmbers. \n",
    "The aim of the study is to analyse Cyclistic historical bike trip data to identify trends and understand how annual members and casual riders differ.\n",
    "\n",
    "To achieve the above stated aim, the study seeks to address the following questions:\n",
    "\n",
    "1. How do annual members and casual riders use Cyclistic bikes differently?\n",
    "2. Why would casual riders buy Cyclistic annual memberships?\n",
    "3. How can Cyclistic use digital media to influence casual riders to become members?\n",
    "\n",
    "The key stakeholders involved will be the marketing manager, responsible for\n",
    "the development of campaigns and initiatives to promote the bike-share program and these may include email, social media, and other channels. The cyclistic executive team team will decide whether to approve the recommended marketing program.\n",
    "\n",
    "\n",
    "# Prepare Phase\n",
    "\n",
    "## Data sources\n",
    "\n",
    "Cyclistic historial bike trip data for the year 2022 will be used ,the data has been obtained and has been made publicly available by Motivate International Inc. The data sets can be obtained from [here](https://divvy-tripdata.s3.amazonaws.com/index.html).There is not Personally Identifiable Information (PII) and is first party data which is reliable and original.\n",
    "\n",
    "\n",
    "Data was uploaded into kaggle, while a separate file will be uploaded and  stored on the users PC. \n",
    "All data is csv format with the following columns,  ride_id ,rideable_type , started_at, ended_at, start_station_name , start_station_id, end_station_name, end_station_id, start_lat, start_lng, end_lat, end_lng, member_casual. This is done to check and see that all data uploaded has the same structure and format before it being merged.\n",
    "\n",
    "\n"
   ]
  },
  {
   "cell_type": "markdown",
   "id": "488e4f93",
   "metadata": {
    "papermill": {
     "duration": 0.01449,
     "end_time": "2024-01-19T10:13:55.406290",
     "exception": false,
     "start_time": "2024-01-19T10:13:55.391800",
     "status": "completed"
    },
    "tags": []
   },
   "source": []
  },
  {
   "cell_type": "code",
   "execution_count": 1,
   "id": "03aa04fb",
   "metadata": {
    "execution": {
     "iopub.execute_input": "2024-01-19T10:13:55.440988Z",
     "iopub.status.busy": "2024-01-19T10:13:55.438266Z",
     "iopub.status.idle": "2024-01-19T10:16:39.130755Z",
     "shell.execute_reply": "2024-01-19T10:16:39.128414Z"
    },
    "jupyter": {
     "source_hidden": true
    },
    "papermill": {
     "duration": 163.713594,
     "end_time": "2024-01-19T10:16:39.134424",
     "exception": false,
     "start_time": "2024-01-19T10:13:55.420830",
     "status": "completed"
    },
    "tags": []
   },
   "outputs": [
    {
     "name": "stderr",
     "output_type": "stream",
     "text": [
      "Installing package into ‘/usr/local/lib/R/site-library’\n",
      "(as ‘lib’ is unspecified)\n",
      "\n",
      "── \u001b[1mAttaching core tidyverse packages\u001b[22m ──────────────────────── tidyverse 2.0.0 ──\n",
      "\u001b[32m✔\u001b[39m \u001b[34mdplyr    \u001b[39m 1.1.4     \u001b[32m✔\u001b[39m \u001b[34mreadr    \u001b[39m 2.1.4\n",
      "\u001b[32m✔\u001b[39m \u001b[34mforcats  \u001b[39m 1.0.0     \u001b[32m✔\u001b[39m \u001b[34mstringr  \u001b[39m 1.5.1\n",
      "\u001b[32m✔\u001b[39m \u001b[34mggplot2  \u001b[39m 3.4.4     \u001b[32m✔\u001b[39m \u001b[34mtibble   \u001b[39m 3.2.1\n",
      "\u001b[32m✔\u001b[39m \u001b[34mlubridate\u001b[39m 1.9.3     \u001b[32m✔\u001b[39m \u001b[34mtidyr    \u001b[39m 1.3.0\n",
      "\u001b[32m✔\u001b[39m \u001b[34mpurrr    \u001b[39m 1.0.2     \n",
      "── \u001b[1mConflicts\u001b[22m ────────────────────────────────────────── tidyverse_conflicts() ──\n",
      "\u001b[31m✖\u001b[39m \u001b[34mdplyr\u001b[39m::\u001b[32mfilter()\u001b[39m masks \u001b[34mstats\u001b[39m::filter()\n",
      "\u001b[31m✖\u001b[39m \u001b[34mdplyr\u001b[39m::\u001b[32mlag()\u001b[39m    masks \u001b[34mstats\u001b[39m::lag()\n",
      "\u001b[36mℹ\u001b[39m Use the conflicted package (\u001b[3m\u001b[34m<http://conflicted.r-lib.org/>\u001b[39m\u001b[23m) to force all conflicts to become errors\n",
      "Installing package into ‘/usr/local/lib/R/site-library’\n",
      "(as ‘lib’ is unspecified)\n",
      "\n",
      "Installing package into ‘/usr/local/lib/R/site-library’\n",
      "(as ‘lib’ is unspecified)\n",
      "\n",
      "Installing package into ‘/usr/local/lib/R/site-library’\n",
      "(as ‘lib’ is unspecified)\n",
      "\n",
      "Warning message in install.packages(\"dplyr\"):\n",
      "“installation of package ‘dplyr’ had non-zero exit status”\n",
      "Installing package into ‘/usr/local/lib/R/site-library’\n",
      "(as ‘lib’ is unspecified)\n",
      "\n",
      "Installing package into ‘/usr/local/lib/R/site-library’\n",
      "(as ‘lib’ is unspecified)\n",
      "\n"
     ]
    }
   ],
   "source": [
    "## Install and load the necessary required packages before the session starts\n",
    "\n",
    "install.packages(\"tidyverse\")\n",
    "library(tidyverse)\n",
    "install.packages(\"readr\")\n",
    "library(readr)\n",
    "install.packages(\"tidyr\")\n",
    "library(tidyr)\n",
    "install.packages(\"dplyr\")\n",
    "library(dplyr)\n",
    "install.packages(\"ggplot2\")\n",
    "library(ggplot2)\n",
    "install.packages(\"lubridate\")\n",
    "library(lubridate)"
   ]
  },
  {
   "cell_type": "code",
   "execution_count": 2,
   "id": "c83fcd36",
   "metadata": {
    "execution": {
     "iopub.execute_input": "2024-01-19T10:16:39.208977Z",
     "iopub.status.busy": "2024-01-19T10:16:39.173023Z",
     "iopub.status.idle": "2024-01-19T10:17:12.871937Z",
     "shell.execute_reply": "2024-01-19T10:17:12.869976Z"
    },
    "jupyter": {
     "source_hidden": true
    },
    "papermill": {
     "duration": 33.72017,
     "end_time": "2024-01-19T10:17:12.875224",
     "exception": false,
     "start_time": "2024-01-19T10:16:39.155054",
     "status": "completed"
    },
    "tags": []
   },
   "outputs": [
    {
     "name": "stderr",
     "output_type": "stream",
     "text": [
      "\u001b[1mRows: \u001b[22m\u001b[34m103770\u001b[39m \u001b[1mColumns: \u001b[22m\u001b[34m13\u001b[39m\n",
      "\u001b[36m──\u001b[39m \u001b[1mColumn specification\u001b[22m \u001b[36m────────────────────────────────────────────────────────\u001b[39m\n",
      "\u001b[1mDelimiter:\u001b[22m \",\"\n",
      "\u001b[31mchr\u001b[39m  (7): ride_id, rideable_type, start_station_name, start_station_id, end_...\n",
      "\u001b[32mdbl\u001b[39m  (4): start_lat, start_lng, end_lat, end_lng\n",
      "\u001b[34mdttm\u001b[39m (2): started_at, ended_at\n",
      "\n",
      "\u001b[36mℹ\u001b[39m Use `spec()` to retrieve the full column specification for this data.\n",
      "\u001b[36mℹ\u001b[39m Specify the column types or set `show_col_types = FALSE` to quiet this message.\n",
      "\u001b[1mRows: \u001b[22m\u001b[34m115609\u001b[39m \u001b[1mColumns: \u001b[22m\u001b[34m13\u001b[39m\n",
      "\u001b[36m──\u001b[39m \u001b[1mColumn specification\u001b[22m \u001b[36m────────────────────────────────────────────────────────\u001b[39m\n",
      "\u001b[1mDelimiter:\u001b[22m \",\"\n",
      "\u001b[31mchr\u001b[39m  (7): ride_id, rideable_type, start_station_name, start_station_id, end_...\n",
      "\u001b[32mdbl\u001b[39m  (4): start_lat, start_lng, end_lat, end_lng\n",
      "\u001b[34mdttm\u001b[39m (2): started_at, ended_at\n",
      "\n",
      "\u001b[36mℹ\u001b[39m Use `spec()` to retrieve the full column specification for this data.\n",
      "\u001b[36mℹ\u001b[39m Specify the column types or set `show_col_types = FALSE` to quiet this message.\n",
      "\u001b[1mRows: \u001b[22m\u001b[34m284042\u001b[39m \u001b[1mColumns: \u001b[22m\u001b[34m13\u001b[39m\n",
      "\u001b[36m──\u001b[39m \u001b[1mColumn specification\u001b[22m \u001b[36m────────────────────────────────────────────────────────\u001b[39m\n",
      "\u001b[1mDelimiter:\u001b[22m \",\"\n",
      "\u001b[31mchr\u001b[39m  (7): ride_id, rideable_type, start_station_name, start_station_id, end_...\n",
      "\u001b[32mdbl\u001b[39m  (4): start_lat, start_lng, end_lat, end_lng\n",
      "\u001b[34mdttm\u001b[39m (2): started_at, ended_at\n",
      "\n",
      "\u001b[36mℹ\u001b[39m Use `spec()` to retrieve the full column specification for this data.\n",
      "\u001b[36mℹ\u001b[39m Specify the column types or set `show_col_types = FALSE` to quiet this message.\n",
      "\u001b[1mRows: \u001b[22m\u001b[34m371249\u001b[39m \u001b[1mColumns: \u001b[22m\u001b[34m13\u001b[39m\n",
      "\u001b[36m──\u001b[39m \u001b[1mColumn specification\u001b[22m \u001b[36m────────────────────────────────────────────────────────\u001b[39m\n",
      "\u001b[1mDelimiter:\u001b[22m \",\"\n",
      "\u001b[31mchr\u001b[39m  (7): ride_id, rideable_type, start_station_name, start_station_id, end_...\n",
      "\u001b[32mdbl\u001b[39m  (4): start_lat, start_lng, end_lat, end_lng\n",
      "\u001b[34mdttm\u001b[39m (2): started_at, ended_at\n",
      "\n",
      "\u001b[36mℹ\u001b[39m Use `spec()` to retrieve the full column specification for this data.\n",
      "\u001b[36mℹ\u001b[39m Specify the column types or set `show_col_types = FALSE` to quiet this message.\n",
      "\u001b[1mRows: \u001b[22m\u001b[34m634858\u001b[39m \u001b[1mColumns: \u001b[22m\u001b[34m13\u001b[39m\n",
      "\u001b[36m──\u001b[39m \u001b[1mColumn specification\u001b[22m \u001b[36m────────────────────────────────────────────────────────\u001b[39m\n",
      "\u001b[1mDelimiter:\u001b[22m \",\"\n",
      "\u001b[31mchr\u001b[39m  (7): ride_id, rideable_type, start_station_name, start_station_id, end_...\n",
      "\u001b[32mdbl\u001b[39m  (4): start_lat, start_lng, end_lat, end_lng\n",
      "\u001b[34mdttm\u001b[39m (2): started_at, ended_at\n",
      "\n",
      "\u001b[36mℹ\u001b[39m Use `spec()` to retrieve the full column specification for this data.\n",
      "\u001b[36mℹ\u001b[39m Specify the column types or set `show_col_types = FALSE` to quiet this message.\n",
      "\u001b[1mRows: \u001b[22m\u001b[34m769204\u001b[39m \u001b[1mColumns: \u001b[22m\u001b[34m13\u001b[39m\n",
      "\u001b[36m──\u001b[39m \u001b[1mColumn specification\u001b[22m \u001b[36m────────────────────────────────────────────────────────\u001b[39m\n",
      "\u001b[1mDelimiter:\u001b[22m \",\"\n",
      "\u001b[31mchr\u001b[39m  (7): ride_id, rideable_type, start_station_name, start_station_id, end_...\n",
      "\u001b[32mdbl\u001b[39m  (4): start_lat, start_lng, end_lat, end_lng\n",
      "\u001b[34mdttm\u001b[39m (2): started_at, ended_at\n",
      "\n",
      "\u001b[36mℹ\u001b[39m Use `spec()` to retrieve the full column specification for this data.\n",
      "\u001b[36mℹ\u001b[39m Specify the column types or set `show_col_types = FALSE` to quiet this message.\n",
      "\u001b[1mRows: \u001b[22m\u001b[34m823488\u001b[39m \u001b[1mColumns: \u001b[22m\u001b[34m13\u001b[39m\n",
      "\u001b[36m──\u001b[39m \u001b[1mColumn specification\u001b[22m \u001b[36m────────────────────────────────────────────────────────\u001b[39m\n",
      "\u001b[1mDelimiter:\u001b[22m \",\"\n",
      "\u001b[31mchr\u001b[39m  (7): ride_id, rideable_type, start_station_name, start_station_id, end_...\n",
      "\u001b[32mdbl\u001b[39m  (4): start_lat, start_lng, end_lat, end_lng\n",
      "\u001b[34mdttm\u001b[39m (2): started_at, ended_at\n",
      "\n",
      "\u001b[36mℹ\u001b[39m Use `spec()` to retrieve the full column specification for this data.\n",
      "\u001b[36mℹ\u001b[39m Specify the column types or set `show_col_types = FALSE` to quiet this message.\n",
      "\u001b[1mRows: \u001b[22m\u001b[34m785932\u001b[39m \u001b[1mColumns: \u001b[22m\u001b[34m13\u001b[39m\n",
      "\u001b[36m──\u001b[39m \u001b[1mColumn specification\u001b[22m \u001b[36m────────────────────────────────────────────────────────\u001b[39m\n",
      "\u001b[1mDelimiter:\u001b[22m \",\"\n",
      "\u001b[31mchr\u001b[39m  (7): ride_id, rideable_type, start_station_name, start_station_id, end_...\n",
      "\u001b[32mdbl\u001b[39m  (4): start_lat, start_lng, end_lat, end_lng\n",
      "\u001b[34mdttm\u001b[39m (2): started_at, ended_at\n",
      "\n",
      "\u001b[36mℹ\u001b[39m Use `spec()` to retrieve the full column specification for this data.\n",
      "\u001b[36mℹ\u001b[39m Specify the column types or set `show_col_types = FALSE` to quiet this message.\n",
      "\u001b[1mRows: \u001b[22m\u001b[34m701339\u001b[39m \u001b[1mColumns: \u001b[22m\u001b[34m13\u001b[39m\n",
      "\u001b[36m──\u001b[39m \u001b[1mColumn specification\u001b[22m \u001b[36m────────────────────────────────────────────────────────\u001b[39m\n",
      "\u001b[1mDelimiter:\u001b[22m \",\"\n",
      "\u001b[31mchr\u001b[39m  (7): ride_id, rideable_type, start_station_name, start_station_id, end_...\n",
      "\u001b[32mdbl\u001b[39m  (4): start_lat, start_lng, end_lat, end_lng\n",
      "\u001b[34mdttm\u001b[39m (2): started_at, ended_at\n",
      "\n",
      "\u001b[36mℹ\u001b[39m Use `spec()` to retrieve the full column specification for this data.\n",
      "\u001b[36mℹ\u001b[39m Specify the column types or set `show_col_types = FALSE` to quiet this message.\n",
      "\u001b[1mRows: \u001b[22m\u001b[34m558685\u001b[39m \u001b[1mColumns: \u001b[22m\u001b[34m13\u001b[39m\n",
      "\u001b[36m──\u001b[39m \u001b[1mColumn specification\u001b[22m \u001b[36m────────────────────────────────────────────────────────\u001b[39m\n",
      "\u001b[1mDelimiter:\u001b[22m \",\"\n",
      "\u001b[31mchr\u001b[39m  (7): ride_id, rideable_type, start_station_name, start_station_id, end_...\n",
      "\u001b[32mdbl\u001b[39m  (4): start_lat, start_lng, end_lat, end_lng\n",
      "\u001b[34mdttm\u001b[39m (2): started_at, ended_at\n",
      "\n",
      "\u001b[36mℹ\u001b[39m Use `spec()` to retrieve the full column specification for this data.\n",
      "\u001b[36mℹ\u001b[39m Specify the column types or set `show_col_types = FALSE` to quiet this message.\n",
      "\u001b[1mRows: \u001b[22m\u001b[34m337735\u001b[39m \u001b[1mColumns: \u001b[22m\u001b[34m13\u001b[39m\n",
      "\u001b[36m──\u001b[39m \u001b[1mColumn specification\u001b[22m \u001b[36m────────────────────────────────────────────────────────\u001b[39m\n",
      "\u001b[1mDelimiter:\u001b[22m \",\"\n",
      "\u001b[31mchr\u001b[39m  (7): ride_id, rideable_type, start_station_name, start_station_id, end_...\n",
      "\u001b[32mdbl\u001b[39m  (4): start_lat, start_lng, end_lat, end_lng\n",
      "\u001b[34mdttm\u001b[39m (2): started_at, ended_at\n",
      "\n",
      "\u001b[36mℹ\u001b[39m Use `spec()` to retrieve the full column specification for this data.\n",
      "\u001b[36mℹ\u001b[39m Specify the column types or set `show_col_types = FALSE` to quiet this message.\n",
      "\u001b[1mRows: \u001b[22m\u001b[34m181806\u001b[39m \u001b[1mColumns: \u001b[22m\u001b[34m13\u001b[39m\n",
      "\u001b[36m──\u001b[39m \u001b[1mColumn specification\u001b[22m \u001b[36m────────────────────────────────────────────────────────\u001b[39m\n",
      "\u001b[1mDelimiter:\u001b[22m \",\"\n",
      "\u001b[31mchr\u001b[39m  (7): ride_id, rideable_type, start_station_name, start_station_id, end_...\n",
      "\u001b[32mdbl\u001b[39m  (4): start_lat, start_lng, end_lat, end_lng\n",
      "\u001b[34mdttm\u001b[39m (2): started_at, ended_at\n",
      "\n",
      "\u001b[36mℹ\u001b[39m Use `spec()` to retrieve the full column specification for this data.\n",
      "\u001b[36mℹ\u001b[39m Specify the column types or set `show_col_types = FALSE` to quiet this message.\n"
     ]
    }
   ],
   "source": [
    "jan22 <- read_csv(\"/kaggle/input/cyclistic-data-trip-2022/202201-divvy-tripdata.csv\")\n",
    "feb22 <- read_csv(\"/kaggle/input/cyclistic-data-trip-2022/202202-divvy-tripdata.csv\")\n",
    "mar22 <- read_csv(\"/kaggle/input/cyclistic-data-trip-2022/202203-divvy-tripdata.csv\")\n",
    "apr22 <- read_csv(\"/kaggle/input/cyclistic-data-trip-2022/202204-divvy-tripdata.csv\")\n",
    "may22 <- read_csv(\"/kaggle/input/cyclistic-data-trip-2022/202205-divvy-tripdata.csv\")\n",
    "jun22 <- read_csv(\"/kaggle/input/cyclistic-data-trip-2022/202206-divvy-tripdata.csv\")\n",
    "jul22 <- read_csv(\"/kaggle/input/cyclistic-data-trip-2022/202207-divvy-tripdata.csv\")\n",
    "aug22 <- read_csv(\"/kaggle/input/cyclistic-data-trip-2022/202208-divvy-tripdata.csv\")\n",
    "sep22 <- read_csv(\"/kaggle/input/cyclistic-data-trip-2022/202209-divvy-publictripdata.csv\")\n",
    "oct22 <- read_csv(\"/kaggle/input/cyclistic-data-trip-2022/202210-divvy-tripdata.csv\")\n",
    "nov22 <- read_csv(\"/kaggle/input/cyclistic-data-trip-2022/202211-divvy-tripdata.csv\")\n",
    "dec22 <- read_csv(\"/kaggle/input/cyclistic-data-trip-2022/202212-divvy-tripdata.csv\")\n"
   ]
  },
  {
   "cell_type": "markdown",
   "id": "beb20655",
   "metadata": {
    "papermill": {
     "duration": 0.019807,
     "end_time": "2024-01-19T10:17:12.914870",
     "exception": false,
     "start_time": "2024-01-19T10:17:12.895063",
     "status": "completed"
    },
    "tags": []
   },
   "source": [
    "# Process phase\n",
    "\n",
    "The following tools were used during the case study :\n",
    "\n",
    "* Spreadsheets- perform initial data inspection\n",
    "* R- programming - develop scripts to clean, transform, organize, and summarize the datasets as well as produce data visualizations\n",
    "* Kaggle R Notebook -provide a complete report of the data analysis process\n",
    "\n",
    "The data is in 12 single data frames hence in order to simplify the data analysis, the csv files are merged into one large data frame for easier processing. Kaggle allows saving and documenting any changes that happen to the notebook or the data that is being used for processing.\n"
   ]
  },
  {
   "cell_type": "code",
   "execution_count": 3,
   "id": "01192bb2",
   "metadata": {
    "execution": {
     "iopub.execute_input": "2024-01-19T10:17:12.956974Z",
     "iopub.status.busy": "2024-01-19T10:17:12.955277Z",
     "iopub.status.idle": "2024-01-19T10:17:18.136471Z",
     "shell.execute_reply": "2024-01-19T10:17:18.134553Z"
    },
    "jupyter": {
     "source_hidden": true
    },
    "papermill": {
     "duration": 5.20518,
     "end_time": "2024-01-19T10:17:18.139112",
     "exception": false,
     "start_time": "2024-01-19T10:17:12.933932",
     "status": "completed"
    },
    "tags": []
   },
   "outputs": [],
   "source": [
    "## Merging all 12 months data frames into one single data frame\n",
    "\n",
    "Trip_data <- bind_rows(jan22, feb22, mar22, apr22, may22, jun22, jul22, aug22, sep22, oct22, nov22, dec22)\n"
   ]
  },
  {
   "cell_type": "markdown",
   "id": "8c009271",
   "metadata": {
    "papermill": {
     "duration": 0.018834,
     "end_time": "2024-01-19T10:17:18.177419",
     "exception": false,
     "start_time": "2024-01-19T10:17:18.158585",
     "status": "completed"
    },
    "tags": []
   },
   "source": [
    "Once the data has been merged we can easily check using below code chuncks to check for consistency and the data types of each column to make sure all the data is formatted correctly."
   ]
  },
  {
   "cell_type": "code",
   "execution_count": 4,
   "id": "dea4585a",
   "metadata": {
    "_kg_hide-input": true,
    "execution": {
     "iopub.execute_input": "2024-01-19T10:17:18.219756Z",
     "iopub.status.busy": "2024-01-19T10:17:18.218094Z",
     "iopub.status.idle": "2024-01-19T10:17:24.746165Z",
     "shell.execute_reply": "2024-01-19T10:17:24.744322Z"
    },
    "jupyter": {
     "source_hidden": true
    },
    "papermill": {
     "duration": 6.552292,
     "end_time": "2024-01-19T10:17:24.748724",
     "exception": false,
     "start_time": "2024-01-19T10:17:18.196432",
     "status": "completed"
    },
    "tags": []
   },
   "outputs": [
    {
     "data": {
      "text/html": [
       "<style>\n",
       ".list-inline {list-style: none; margin:0; padding: 0}\n",
       ".list-inline>li {display: inline-block}\n",
       ".list-inline>li:not(:last-child)::after {content: \"\\00b7\"; padding: 0 .5ex}\n",
       "</style>\n",
       "<ol class=list-inline><li>'ride_id'</li><li>'rideable_type'</li><li>'started_at'</li><li>'ended_at'</li><li>'start_station_name'</li><li>'start_station_id'</li><li>'end_station_name'</li><li>'end_station_id'</li><li>'start_lat'</li><li>'start_lng'</li><li>'end_lat'</li><li>'end_lng'</li><li>'member_casual'</li></ol>\n"
      ],
      "text/latex": [
       "\\begin{enumerate*}\n",
       "\\item 'ride\\_id'\n",
       "\\item 'rideable\\_type'\n",
       "\\item 'started\\_at'\n",
       "\\item 'ended\\_at'\n",
       "\\item 'start\\_station\\_name'\n",
       "\\item 'start\\_station\\_id'\n",
       "\\item 'end\\_station\\_name'\n",
       "\\item 'end\\_station\\_id'\n",
       "\\item 'start\\_lat'\n",
       "\\item 'start\\_lng'\n",
       "\\item 'end\\_lat'\n",
       "\\item 'end\\_lng'\n",
       "\\item 'member\\_casual'\n",
       "\\end{enumerate*}\n"
      ],
      "text/markdown": [
       "1. 'ride_id'\n",
       "2. 'rideable_type'\n",
       "3. 'started_at'\n",
       "4. 'ended_at'\n",
       "5. 'start_station_name'\n",
       "6. 'start_station_id'\n",
       "7. 'end_station_name'\n",
       "8. 'end_station_id'\n",
       "9. 'start_lat'\n",
       "10. 'start_lng'\n",
       "11. 'end_lat'\n",
       "12. 'end_lng'\n",
       "13. 'member_casual'\n",
       "\n",
       "\n"
      ],
      "text/plain": [
       " [1] \"ride_id\"            \"rideable_type\"      \"started_at\"        \n",
       " [4] \"ended_at\"           \"start_station_name\" \"start_station_id\"  \n",
       " [7] \"end_station_name\"   \"end_station_id\"     \"start_lat\"         \n",
       "[10] \"start_lng\"          \"end_lat\"            \"end_lng\"           \n",
       "[13] \"member_casual\"     "
      ]
     },
     "metadata": {},
     "output_type": "display_data"
    },
    {
     "data": {
      "text/html": [
       "<table class=\"dataframe\">\n",
       "<caption>A tibble: 6 × 13</caption>\n",
       "<thead>\n",
       "\t<tr><th scope=col>ride_id</th><th scope=col>rideable_type</th><th scope=col>started_at</th><th scope=col>ended_at</th><th scope=col>start_station_name</th><th scope=col>start_station_id</th><th scope=col>end_station_name</th><th scope=col>end_station_id</th><th scope=col>start_lat</th><th scope=col>start_lng</th><th scope=col>end_lat</th><th scope=col>end_lng</th><th scope=col>member_casual</th></tr>\n",
       "\t<tr><th scope=col>&lt;chr&gt;</th><th scope=col>&lt;chr&gt;</th><th scope=col>&lt;dttm&gt;</th><th scope=col>&lt;dttm&gt;</th><th scope=col>&lt;chr&gt;</th><th scope=col>&lt;chr&gt;</th><th scope=col>&lt;chr&gt;</th><th scope=col>&lt;chr&gt;</th><th scope=col>&lt;dbl&gt;</th><th scope=col>&lt;dbl&gt;</th><th scope=col>&lt;dbl&gt;</th><th scope=col>&lt;dbl&gt;</th><th scope=col>&lt;chr&gt;</th></tr>\n",
       "</thead>\n",
       "<tbody>\n",
       "\t<tr><td>C2F7DD78E82EC875</td><td>electric_bike</td><td>2022-01-13 11:59:47</td><td>2022-01-13 12:02:44</td><td><span style=white-space:pre-wrap>Glenwood Ave &amp; Touhy Ave     </span></td><td><span style=white-space:pre-wrap>525         </span></td><td><span style=white-space:pre-wrap>Clark St &amp; Touhy Ave         </span></td><td><span style=white-space:pre-wrap>RP-007      </span></td><td>42.01280</td><td>-87.66591</td><td>42.01256</td><td>-87.67437</td><td>casual</td></tr>\n",
       "\t<tr><td>A6CF8980A652D272</td><td>electric_bike</td><td>2022-01-10 08:41:56</td><td>2022-01-10 08:46:17</td><td><span style=white-space:pre-wrap>Glenwood Ave &amp; Touhy Ave     </span></td><td><span style=white-space:pre-wrap>525         </span></td><td><span style=white-space:pre-wrap>Clark St &amp; Touhy Ave         </span></td><td><span style=white-space:pre-wrap>RP-007      </span></td><td>42.01276</td><td>-87.66597</td><td>42.01256</td><td>-87.67437</td><td>casual</td></tr>\n",
       "\t<tr><td>BD0F91DFF741C66D</td><td>classic_bike </td><td>2022-01-25 04:53:40</td><td>2022-01-25 04:58:01</td><td>Sheffield Ave &amp; Fullerton Ave</td><td>TA1306000016</td><td>Greenview Ave &amp; Fullerton Ave</td><td>TA1307000001</td><td>41.92560</td><td>-87.65371</td><td>41.92533</td><td>-87.66580</td><td>member</td></tr>\n",
       "\t<tr><td>CBB80ED419105406</td><td>classic_bike </td><td>2022-01-04 00:18:04</td><td>2022-01-04 00:33:00</td><td><span style=white-space:pre-wrap>Clark St &amp; Bryn Mawr Ave     </span></td><td>KA1504000151</td><td><span style=white-space:pre-wrap>Paulina St &amp; Montrose Ave    </span></td><td>TA1309000021</td><td>41.98359</td><td>-87.66915</td><td>41.96151</td><td>-87.67139</td><td>casual</td></tr>\n",
       "\t<tr><td>DDC963BFDDA51EEA</td><td>classic_bike </td><td>2022-01-20 01:31:10</td><td>2022-01-20 01:37:12</td><td><span style=white-space:pre-wrap>Michigan Ave &amp; Jackson Blvd  </span></td><td>TA1309000002</td><td><span style=white-space:pre-wrap>State St &amp; Randolph St       </span></td><td>TA1305000029</td><td>41.87785</td><td>-87.62408</td><td>41.88462</td><td>-87.62783</td><td>member</td></tr>\n",
       "\t<tr><td>A39C6F6CC0586C0B</td><td>classic_bike </td><td>2022-01-11 18:48:09</td><td>2022-01-11 18:51:31</td><td><span style=white-space:pre-wrap>Wood St &amp; Chicago Ave        </span></td><td><span style=white-space:pre-wrap>637         </span></td><td><span style=white-space:pre-wrap>Honore St &amp; Division St      </span></td><td>TA1305000034</td><td>41.89563</td><td>-87.67207</td><td>41.90312</td><td>-87.67394</td><td>member</td></tr>\n",
       "</tbody>\n",
       "</table>\n"
      ],
      "text/latex": [
       "A tibble: 6 × 13\n",
       "\\begin{tabular}{lllllllllllll}\n",
       " ride\\_id & rideable\\_type & started\\_at & ended\\_at & start\\_station\\_name & start\\_station\\_id & end\\_station\\_name & end\\_station\\_id & start\\_lat & start\\_lng & end\\_lat & end\\_lng & member\\_casual\\\\\n",
       " <chr> & <chr> & <dttm> & <dttm> & <chr> & <chr> & <chr> & <chr> & <dbl> & <dbl> & <dbl> & <dbl> & <chr>\\\\\n",
       "\\hline\n",
       "\t C2F7DD78E82EC875 & electric\\_bike & 2022-01-13 11:59:47 & 2022-01-13 12:02:44 & Glenwood Ave \\& Touhy Ave      & 525          & Clark St \\& Touhy Ave          & RP-007       & 42.01280 & -87.66591 & 42.01256 & -87.67437 & casual\\\\\n",
       "\t A6CF8980A652D272 & electric\\_bike & 2022-01-10 08:41:56 & 2022-01-10 08:46:17 & Glenwood Ave \\& Touhy Ave      & 525          & Clark St \\& Touhy Ave          & RP-007       & 42.01276 & -87.66597 & 42.01256 & -87.67437 & casual\\\\\n",
       "\t BD0F91DFF741C66D & classic\\_bike  & 2022-01-25 04:53:40 & 2022-01-25 04:58:01 & Sheffield Ave \\& Fullerton Ave & TA1306000016 & Greenview Ave \\& Fullerton Ave & TA1307000001 & 41.92560 & -87.65371 & 41.92533 & -87.66580 & member\\\\\n",
       "\t CBB80ED419105406 & classic\\_bike  & 2022-01-04 00:18:04 & 2022-01-04 00:33:00 & Clark St \\& Bryn Mawr Ave      & KA1504000151 & Paulina St \\& Montrose Ave     & TA1309000021 & 41.98359 & -87.66915 & 41.96151 & -87.67139 & casual\\\\\n",
       "\t DDC963BFDDA51EEA & classic\\_bike  & 2022-01-20 01:31:10 & 2022-01-20 01:37:12 & Michigan Ave \\& Jackson Blvd   & TA1309000002 & State St \\& Randolph St        & TA1305000029 & 41.87785 & -87.62408 & 41.88462 & -87.62783 & member\\\\\n",
       "\t A39C6F6CC0586C0B & classic\\_bike  & 2022-01-11 18:48:09 & 2022-01-11 18:51:31 & Wood St \\& Chicago Ave         & 637          & Honore St \\& Division St       & TA1305000034 & 41.89563 & -87.67207 & 41.90312 & -87.67394 & member\\\\\n",
       "\\end{tabular}\n"
      ],
      "text/markdown": [
       "\n",
       "A tibble: 6 × 13\n",
       "\n",
       "| ride_id &lt;chr&gt; | rideable_type &lt;chr&gt; | started_at &lt;dttm&gt; | ended_at &lt;dttm&gt; | start_station_name &lt;chr&gt; | start_station_id &lt;chr&gt; | end_station_name &lt;chr&gt; | end_station_id &lt;chr&gt; | start_lat &lt;dbl&gt; | start_lng &lt;dbl&gt; | end_lat &lt;dbl&gt; | end_lng &lt;dbl&gt; | member_casual &lt;chr&gt; |\n",
       "|---|---|---|---|---|---|---|---|---|---|---|---|---|\n",
       "| C2F7DD78E82EC875 | electric_bike | 2022-01-13 11:59:47 | 2022-01-13 12:02:44 | Glenwood Ave &amp; Touhy Ave      | 525          | Clark St &amp; Touhy Ave          | RP-007       | 42.01280 | -87.66591 | 42.01256 | -87.67437 | casual |\n",
       "| A6CF8980A652D272 | electric_bike | 2022-01-10 08:41:56 | 2022-01-10 08:46:17 | Glenwood Ave &amp; Touhy Ave      | 525          | Clark St &amp; Touhy Ave          | RP-007       | 42.01276 | -87.66597 | 42.01256 | -87.67437 | casual |\n",
       "| BD0F91DFF741C66D | classic_bike  | 2022-01-25 04:53:40 | 2022-01-25 04:58:01 | Sheffield Ave &amp; Fullerton Ave | TA1306000016 | Greenview Ave &amp; Fullerton Ave | TA1307000001 | 41.92560 | -87.65371 | 41.92533 | -87.66580 | member |\n",
       "| CBB80ED419105406 | classic_bike  | 2022-01-04 00:18:04 | 2022-01-04 00:33:00 | Clark St &amp; Bryn Mawr Ave      | KA1504000151 | Paulina St &amp; Montrose Ave     | TA1309000021 | 41.98359 | -87.66915 | 41.96151 | -87.67139 | casual |\n",
       "| DDC963BFDDA51EEA | classic_bike  | 2022-01-20 01:31:10 | 2022-01-20 01:37:12 | Michigan Ave &amp; Jackson Blvd   | TA1309000002 | State St &amp; Randolph St        | TA1305000029 | 41.87785 | -87.62408 | 41.88462 | -87.62783 | member |\n",
       "| A39C6F6CC0586C0B | classic_bike  | 2022-01-11 18:48:09 | 2022-01-11 18:51:31 | Wood St &amp; Chicago Ave         | 637          | Honore St &amp; Division St       | TA1305000034 | 41.89563 | -87.67207 | 41.90312 | -87.67394 | member |\n",
       "\n"
      ],
      "text/plain": [
       "  ride_id          rideable_type started_at          ended_at           \n",
       "1 C2F7DD78E82EC875 electric_bike 2022-01-13 11:59:47 2022-01-13 12:02:44\n",
       "2 A6CF8980A652D272 electric_bike 2022-01-10 08:41:56 2022-01-10 08:46:17\n",
       "3 BD0F91DFF741C66D classic_bike  2022-01-25 04:53:40 2022-01-25 04:58:01\n",
       "4 CBB80ED419105406 classic_bike  2022-01-04 00:18:04 2022-01-04 00:33:00\n",
       "5 DDC963BFDDA51EEA classic_bike  2022-01-20 01:31:10 2022-01-20 01:37:12\n",
       "6 A39C6F6CC0586C0B classic_bike  2022-01-11 18:48:09 2022-01-11 18:51:31\n",
       "  start_station_name            start_station_id end_station_name             \n",
       "1 Glenwood Ave & Touhy Ave      525              Clark St & Touhy Ave         \n",
       "2 Glenwood Ave & Touhy Ave      525              Clark St & Touhy Ave         \n",
       "3 Sheffield Ave & Fullerton Ave TA1306000016     Greenview Ave & Fullerton Ave\n",
       "4 Clark St & Bryn Mawr Ave      KA1504000151     Paulina St & Montrose Ave    \n",
       "5 Michigan Ave & Jackson Blvd   TA1309000002     State St & Randolph St       \n",
       "6 Wood St & Chicago Ave         637              Honore St & Division St      \n",
       "  end_station_id start_lat start_lng end_lat  end_lng   member_casual\n",
       "1 RP-007         42.01280  -87.66591 42.01256 -87.67437 casual       \n",
       "2 RP-007         42.01276  -87.66597 42.01256 -87.67437 casual       \n",
       "3 TA1307000001   41.92560  -87.65371 41.92533 -87.66580 member       \n",
       "4 TA1309000021   41.98359  -87.66915 41.96151 -87.67139 casual       \n",
       "5 TA1305000029   41.87785  -87.62408 41.88462 -87.62783 member       \n",
       "6 TA1305000034   41.89563  -87.67207 41.90312 -87.67394 member       "
      ]
     },
     "metadata": {},
     "output_type": "display_data"
    },
    {
     "name": "stdout",
     "output_type": "stream",
     "text": [
      "spc_tbl_ [5,667,717 × 13] (S3: spec_tbl_df/tbl_df/tbl/data.frame)\n",
      " $ ride_id           : chr [1:5667717] \"C2F7DD78E82EC875\" \"A6CF8980A652D272\" \"BD0F91DFF741C66D\" \"CBB80ED419105406\" ...\n",
      " $ rideable_type     : chr [1:5667717] \"electric_bike\" \"electric_bike\" \"classic_bike\" \"classic_bike\" ...\n",
      " $ started_at        : POSIXct[1:5667717], format: \"2022-01-13 11:59:47\" \"2022-01-10 08:41:56\" ...\n",
      " $ ended_at          : POSIXct[1:5667717], format: \"2022-01-13 12:02:44\" \"2022-01-10 08:46:17\" ...\n",
      " $ start_station_name: chr [1:5667717] \"Glenwood Ave & Touhy Ave\" \"Glenwood Ave & Touhy Ave\" \"Sheffield Ave & Fullerton Ave\" \"Clark St & Bryn Mawr Ave\" ...\n",
      " $ start_station_id  : chr [1:5667717] \"525\" \"525\" \"TA1306000016\" \"KA1504000151\" ...\n",
      " $ end_station_name  : chr [1:5667717] \"Clark St & Touhy Ave\" \"Clark St & Touhy Ave\" \"Greenview Ave & Fullerton Ave\" \"Paulina St & Montrose Ave\" ...\n",
      " $ end_station_id    : chr [1:5667717] \"RP-007\" \"RP-007\" \"TA1307000001\" \"TA1309000021\" ...\n",
      " $ start_lat         : num [1:5667717] 42 42 41.9 42 41.9 ...\n",
      " $ start_lng         : num [1:5667717] -87.7 -87.7 -87.7 -87.7 -87.6 ...\n",
      " $ end_lat           : num [1:5667717] 42 42 41.9 42 41.9 ...\n",
      " $ end_lng           : num [1:5667717] -87.7 -87.7 -87.7 -87.7 -87.6 ...\n",
      " $ member_casual     : chr [1:5667717] \"casual\" \"casual\" \"member\" \"casual\" ...\n",
      " - attr(*, \"spec\")=\n",
      "  .. cols(\n",
      "  ..   ride_id = \u001b[31mcol_character()\u001b[39m,\n",
      "  ..   rideable_type = \u001b[31mcol_character()\u001b[39m,\n",
      "  ..   started_at = \u001b[34mcol_datetime(format = \"\")\u001b[39m,\n",
      "  ..   ended_at = \u001b[34mcol_datetime(format = \"\")\u001b[39m,\n",
      "  ..   start_station_name = \u001b[31mcol_character()\u001b[39m,\n",
      "  ..   start_station_id = \u001b[31mcol_character()\u001b[39m,\n",
      "  ..   end_station_name = \u001b[31mcol_character()\u001b[39m,\n",
      "  ..   end_station_id = \u001b[31mcol_character()\u001b[39m,\n",
      "  ..   start_lat = \u001b[32mcol_double()\u001b[39m,\n",
      "  ..   start_lng = \u001b[32mcol_double()\u001b[39m,\n",
      "  ..   end_lat = \u001b[32mcol_double()\u001b[39m,\n",
      "  ..   end_lng = \u001b[32mcol_double()\u001b[39m,\n",
      "  ..   member_casual = \u001b[31mcol_character()\u001b[39m\n",
      "  .. )\n",
      " - attr(*, \"problems\")=<externalptr> \n"
     ]
    },
    {
     "data": {
      "text/plain": [
       "   ride_id          rideable_type        started_at                 \n",
       " Length:5667717     Length:5667717     Min.   :2022-01-01 00:00:05  \n",
       " Class :character   Class :character   1st Qu.:2022-05-28 19:21:05  \n",
       " Mode  :character   Mode  :character   Median :2022-07-22 15:03:59  \n",
       "                                       Mean   :2022-07-20 07:21:18  \n",
       "                                       3rd Qu.:2022-09-16 07:21:29  \n",
       "                                       Max.   :2022-12-31 23:59:26  \n",
       "                                                                    \n",
       "    ended_at                   start_station_name start_station_id  \n",
       " Min.   :2022-01-01 00:01:48   Length:5667717     Length:5667717    \n",
       " 1st Qu.:2022-05-28 19:43:07   Class :character   Class :character  \n",
       " Median :2022-07-22 15:24:44   Mode  :character   Mode  :character  \n",
       " Mean   :2022-07-20 07:40:45                                        \n",
       " 3rd Qu.:2022-09-16 07:39:03                                        \n",
       " Max.   :2023-01-02 04:56:45                                        \n",
       "                                                                    \n",
       " end_station_name   end_station_id       start_lat       start_lng     \n",
       " Length:5667717     Length:5667717     Min.   :41.64   Min.   :-87.84  \n",
       " Class :character   Class :character   1st Qu.:41.88   1st Qu.:-87.66  \n",
       " Mode  :character   Mode  :character   Median :41.90   Median :-87.64  \n",
       "                                       Mean   :41.90   Mean   :-87.65  \n",
       "                                       3rd Qu.:41.93   3rd Qu.:-87.63  \n",
       "                                       Max.   :45.64   Max.   :-73.80  \n",
       "                                                                       \n",
       "    end_lat         end_lng       member_casual     \n",
       " Min.   : 0.00   Min.   :-88.14   Length:5667717    \n",
       " 1st Qu.:41.88   1st Qu.:-87.66   Class :character  \n",
       " Median :41.90   Median :-87.64   Mode  :character  \n",
       " Mean   :41.90   Mean   :-87.65                     \n",
       " 3rd Qu.:41.93   3rd Qu.:-87.63                     \n",
       " Max.   :42.37   Max.   :  0.00                     \n",
       " NA's   :5858    NA's   :5858                       "
      ]
     },
     "metadata": {},
     "output_type": "display_data"
    },
    {
     "data": {
      "text/html": [
       "<table class=\"dataframe\">\n",
       "<caption>A tibble: 6 × 13</caption>\n",
       "<thead>\n",
       "\t<tr><th scope=col>ride_id</th><th scope=col>rideable_type</th><th scope=col>started_at</th><th scope=col>ended_at</th><th scope=col>start_station_name</th><th scope=col>start_station_id</th><th scope=col>end_station_name</th><th scope=col>end_station_id</th><th scope=col>start_lat</th><th scope=col>start_lng</th><th scope=col>end_lat</th><th scope=col>end_lng</th><th scope=col>member_casual</th></tr>\n",
       "\t<tr><th scope=col>&lt;chr&gt;</th><th scope=col>&lt;chr&gt;</th><th scope=col>&lt;dttm&gt;</th><th scope=col>&lt;dttm&gt;</th><th scope=col>&lt;chr&gt;</th><th scope=col>&lt;chr&gt;</th><th scope=col>&lt;chr&gt;</th><th scope=col>&lt;chr&gt;</th><th scope=col>&lt;dbl&gt;</th><th scope=col>&lt;dbl&gt;</th><th scope=col>&lt;dbl&gt;</th><th scope=col>&lt;dbl&gt;</th><th scope=col>&lt;chr&gt;</th></tr>\n",
       "</thead>\n",
       "<tbody>\n",
       "\t<tr><td>7BDEDE9860418B53</td><td>classic_bike </td><td>2022-12-07 06:52:45</td><td>2022-12-07 06:56:36</td><td>Sangamon St &amp; Washington Blvd</td><td><span style=white-space:pre-wrap>13409       </span></td><td>Peoria St &amp; Jackson Blvd</td><td><span style=white-space:pre-wrap>13158       </span></td><td>41.88316</td><td>-87.65110</td><td>41.87764</td><td>-87.64962</td><td>member</td></tr>\n",
       "\t<tr><td>43ABEE85B6E15DCA</td><td>classic_bike </td><td>2022-12-05 06:51:04</td><td>2022-12-05 06:54:48</td><td>Sangamon St &amp; Washington Blvd</td><td><span style=white-space:pre-wrap>13409       </span></td><td>Peoria St &amp; Jackson Blvd</td><td><span style=white-space:pre-wrap>13158       </span></td><td>41.88316</td><td>-87.65110</td><td>41.87764</td><td>-87.64962</td><td>member</td></tr>\n",
       "\t<tr><td>F041C89A3D1F0270</td><td>electric_bike</td><td>2022-12-14 17:06:28</td><td>2022-12-14 17:19:27</td><td><span style=white-space:pre-wrap>Bernard St &amp; Elston Ave      </span></td><td><span style=white-space:pre-wrap>18016       </span></td><td><span style=white-space:pre-wrap>Seeley Ave &amp; Roscoe St  </span></td><td><span style=white-space:pre-wrap>13144       </span></td><td>41.94998</td><td>-87.71402</td><td>41.94340</td><td>-87.67962</td><td>member</td></tr>\n",
       "\t<tr><td>A2BECB88430BE156</td><td>classic_bike </td><td>2022-12-08 16:27:47</td><td>2022-12-08 16:32:20</td><td><span style=white-space:pre-wrap>Wacker Dr &amp; Washington St    </span></td><td>KA1503000072</td><td><span style=white-space:pre-wrap>Green St &amp; Madison St   </span></td><td>TA1307000120</td><td>41.88314</td><td>-87.63724</td><td>41.88186</td><td>-87.64926</td><td>member</td></tr>\n",
       "\t<tr><td>37B392960E566F58</td><td>classic_bike </td><td>2022-12-28 09:37:38</td><td>2022-12-28 09:41:34</td><td>Sangamon St &amp; Washington Blvd</td><td><span style=white-space:pre-wrap>13409       </span></td><td>Peoria St &amp; Jackson Blvd</td><td><span style=white-space:pre-wrap>13158       </span></td><td>41.88316</td><td>-87.65110</td><td>41.87764</td><td>-87.64962</td><td>member</td></tr>\n",
       "\t<tr><td>2DD1587210BA45AE</td><td>classic_bike </td><td>2022-12-09 00:27:25</td><td>2022-12-09 00:35:28</td><td>Southport Ave &amp; Waveland Ave </td><td><span style=white-space:pre-wrap>13235       </span></td><td><span style=white-space:pre-wrap>Seeley Ave &amp; Roscoe St  </span></td><td><span style=white-space:pre-wrap>13144       </span></td><td>41.94815</td><td>-87.66394</td><td>41.94340</td><td>-87.67962</td><td>casual</td></tr>\n",
       "</tbody>\n",
       "</table>\n"
      ],
      "text/latex": [
       "A tibble: 6 × 13\n",
       "\\begin{tabular}{lllllllllllll}\n",
       " ride\\_id & rideable\\_type & started\\_at & ended\\_at & start\\_station\\_name & start\\_station\\_id & end\\_station\\_name & end\\_station\\_id & start\\_lat & start\\_lng & end\\_lat & end\\_lng & member\\_casual\\\\\n",
       " <chr> & <chr> & <dttm> & <dttm> & <chr> & <chr> & <chr> & <chr> & <dbl> & <dbl> & <dbl> & <dbl> & <chr>\\\\\n",
       "\\hline\n",
       "\t 7BDEDE9860418B53 & classic\\_bike  & 2022-12-07 06:52:45 & 2022-12-07 06:56:36 & Sangamon St \\& Washington Blvd & 13409        & Peoria St \\& Jackson Blvd & 13158        & 41.88316 & -87.65110 & 41.87764 & -87.64962 & member\\\\\n",
       "\t 43ABEE85B6E15DCA & classic\\_bike  & 2022-12-05 06:51:04 & 2022-12-05 06:54:48 & Sangamon St \\& Washington Blvd & 13409        & Peoria St \\& Jackson Blvd & 13158        & 41.88316 & -87.65110 & 41.87764 & -87.64962 & member\\\\\n",
       "\t F041C89A3D1F0270 & electric\\_bike & 2022-12-14 17:06:28 & 2022-12-14 17:19:27 & Bernard St \\& Elston Ave       & 18016        & Seeley Ave \\& Roscoe St   & 13144        & 41.94998 & -87.71402 & 41.94340 & -87.67962 & member\\\\\n",
       "\t A2BECB88430BE156 & classic\\_bike  & 2022-12-08 16:27:47 & 2022-12-08 16:32:20 & Wacker Dr \\& Washington St     & KA1503000072 & Green St \\& Madison St    & TA1307000120 & 41.88314 & -87.63724 & 41.88186 & -87.64926 & member\\\\\n",
       "\t 37B392960E566F58 & classic\\_bike  & 2022-12-28 09:37:38 & 2022-12-28 09:41:34 & Sangamon St \\& Washington Blvd & 13409        & Peoria St \\& Jackson Blvd & 13158        & 41.88316 & -87.65110 & 41.87764 & -87.64962 & member\\\\\n",
       "\t 2DD1587210BA45AE & classic\\_bike  & 2022-12-09 00:27:25 & 2022-12-09 00:35:28 & Southport Ave \\& Waveland Ave  & 13235        & Seeley Ave \\& Roscoe St   & 13144        & 41.94815 & -87.66394 & 41.94340 & -87.67962 & casual\\\\\n",
       "\\end{tabular}\n"
      ],
      "text/markdown": [
       "\n",
       "A tibble: 6 × 13\n",
       "\n",
       "| ride_id &lt;chr&gt; | rideable_type &lt;chr&gt; | started_at &lt;dttm&gt; | ended_at &lt;dttm&gt; | start_station_name &lt;chr&gt; | start_station_id &lt;chr&gt; | end_station_name &lt;chr&gt; | end_station_id &lt;chr&gt; | start_lat &lt;dbl&gt; | start_lng &lt;dbl&gt; | end_lat &lt;dbl&gt; | end_lng &lt;dbl&gt; | member_casual &lt;chr&gt; |\n",
       "|---|---|---|---|---|---|---|---|---|---|---|---|---|\n",
       "| 7BDEDE9860418B53 | classic_bike  | 2022-12-07 06:52:45 | 2022-12-07 06:56:36 | Sangamon St &amp; Washington Blvd | 13409        | Peoria St &amp; Jackson Blvd | 13158        | 41.88316 | -87.65110 | 41.87764 | -87.64962 | member |\n",
       "| 43ABEE85B6E15DCA | classic_bike  | 2022-12-05 06:51:04 | 2022-12-05 06:54:48 | Sangamon St &amp; Washington Blvd | 13409        | Peoria St &amp; Jackson Blvd | 13158        | 41.88316 | -87.65110 | 41.87764 | -87.64962 | member |\n",
       "| F041C89A3D1F0270 | electric_bike | 2022-12-14 17:06:28 | 2022-12-14 17:19:27 | Bernard St &amp; Elston Ave       | 18016        | Seeley Ave &amp; Roscoe St   | 13144        | 41.94998 | -87.71402 | 41.94340 | -87.67962 | member |\n",
       "| A2BECB88430BE156 | classic_bike  | 2022-12-08 16:27:47 | 2022-12-08 16:32:20 | Wacker Dr &amp; Washington St     | KA1503000072 | Green St &amp; Madison St    | TA1307000120 | 41.88314 | -87.63724 | 41.88186 | -87.64926 | member |\n",
       "| 37B392960E566F58 | classic_bike  | 2022-12-28 09:37:38 | 2022-12-28 09:41:34 | Sangamon St &amp; Washington Blvd | 13409        | Peoria St &amp; Jackson Blvd | 13158        | 41.88316 | -87.65110 | 41.87764 | -87.64962 | member |\n",
       "| 2DD1587210BA45AE | classic_bike  | 2022-12-09 00:27:25 | 2022-12-09 00:35:28 | Southport Ave &amp; Waveland Ave  | 13235        | Seeley Ave &amp; Roscoe St   | 13144        | 41.94815 | -87.66394 | 41.94340 | -87.67962 | casual |\n",
       "\n"
      ],
      "text/plain": [
       "  ride_id          rideable_type started_at          ended_at           \n",
       "1 7BDEDE9860418B53 classic_bike  2022-12-07 06:52:45 2022-12-07 06:56:36\n",
       "2 43ABEE85B6E15DCA classic_bike  2022-12-05 06:51:04 2022-12-05 06:54:48\n",
       "3 F041C89A3D1F0270 electric_bike 2022-12-14 17:06:28 2022-12-14 17:19:27\n",
       "4 A2BECB88430BE156 classic_bike  2022-12-08 16:27:47 2022-12-08 16:32:20\n",
       "5 37B392960E566F58 classic_bike  2022-12-28 09:37:38 2022-12-28 09:41:34\n",
       "6 2DD1587210BA45AE classic_bike  2022-12-09 00:27:25 2022-12-09 00:35:28\n",
       "  start_station_name            start_station_id end_station_name        \n",
       "1 Sangamon St & Washington Blvd 13409            Peoria St & Jackson Blvd\n",
       "2 Sangamon St & Washington Blvd 13409            Peoria St & Jackson Blvd\n",
       "3 Bernard St & Elston Ave       18016            Seeley Ave & Roscoe St  \n",
       "4 Wacker Dr & Washington St     KA1503000072     Green St & Madison St   \n",
       "5 Sangamon St & Washington Blvd 13409            Peoria St & Jackson Blvd\n",
       "6 Southport Ave & Waveland Ave  13235            Seeley Ave & Roscoe St  \n",
       "  end_station_id start_lat start_lng end_lat  end_lng   member_casual\n",
       "1 13158          41.88316  -87.65110 41.87764 -87.64962 member       \n",
       "2 13158          41.88316  -87.65110 41.87764 -87.64962 member       \n",
       "3 13144          41.94998  -87.71402 41.94340 -87.67962 member       \n",
       "4 TA1307000120   41.88314  -87.63724 41.88186 -87.64926 member       \n",
       "5 13158          41.88316  -87.65110 41.87764 -87.64962 member       \n",
       "6 13144          41.94815  -87.66394 41.94340 -87.67962 casual       "
      ]
     },
     "metadata": {},
     "output_type": "display_data"
    }
   ],
   "source": [
    "## Check the new data frame created (Trip_data)\n",
    "colnames(Trip_data)\n",
    "head(Trip_data)\n",
    "str(Trip_data)\n",
    "summary(Trip_data)\n",
    "tail(Trip_data)\n"
   ]
  },
  {
   "cell_type": "markdown",
   "id": "fc6c6ca5",
   "metadata": {
    "papermill": {
     "duration": 0.02067,
     "end_time": "2024-01-19T10:17:24.789392",
     "exception": false,
     "start_time": "2024-01-19T10:17:24.768722",
     "status": "completed"
    },
    "tags": []
   },
   "source": [
    "For this session I decided not use geolocation data and focus more on time taken by riders when using bikes and created a new data set. \n"
   ]
  },
  {
   "cell_type": "code",
   "execution_count": 5,
   "id": "6ed6987e",
   "metadata": {
    "execution": {
     "iopub.execute_input": "2024-01-19T10:17:24.834984Z",
     "iopub.status.busy": "2024-01-19T10:17:24.833238Z",
     "iopub.status.idle": "2024-01-19T10:17:26.051769Z",
     "shell.execute_reply": "2024-01-19T10:17:26.049827Z"
    },
    "jupyter": {
     "source_hidden": true
    },
    "papermill": {
     "duration": 1.245253,
     "end_time": "2024-01-19T10:17:26.054786",
     "exception": false,
     "start_time": "2024-01-19T10:17:24.809533",
     "status": "completed"
    },
    "tags": []
   },
   "outputs": [
    {
     "data": {
      "text/html": [
       "<table class=\"dataframe\">\n",
       "<caption>A tibble: 6 × 9</caption>\n",
       "<thead>\n",
       "\t<tr><th scope=col>ride_id</th><th scope=col>rideable_type</th><th scope=col>started_at</th><th scope=col>ended_at</th><th scope=col>start_station_name</th><th scope=col>start_station_id</th><th scope=col>end_station_name</th><th scope=col>end_station_id</th><th scope=col>member_casual</th></tr>\n",
       "\t<tr><th scope=col>&lt;chr&gt;</th><th scope=col>&lt;chr&gt;</th><th scope=col>&lt;dttm&gt;</th><th scope=col>&lt;dttm&gt;</th><th scope=col>&lt;chr&gt;</th><th scope=col>&lt;chr&gt;</th><th scope=col>&lt;chr&gt;</th><th scope=col>&lt;chr&gt;</th><th scope=col>&lt;chr&gt;</th></tr>\n",
       "</thead>\n",
       "<tbody>\n",
       "\t<tr><td>C2F7DD78E82EC875</td><td>electric_bike</td><td>2022-01-13 11:59:47</td><td>2022-01-13 12:02:44</td><td><span style=white-space:pre-wrap>Glenwood Ave &amp; Touhy Ave     </span></td><td><span style=white-space:pre-wrap>525         </span></td><td><span style=white-space:pre-wrap>Clark St &amp; Touhy Ave         </span></td><td><span style=white-space:pre-wrap>RP-007      </span></td><td>casual</td></tr>\n",
       "\t<tr><td>A6CF8980A652D272</td><td>electric_bike</td><td>2022-01-10 08:41:56</td><td>2022-01-10 08:46:17</td><td><span style=white-space:pre-wrap>Glenwood Ave &amp; Touhy Ave     </span></td><td><span style=white-space:pre-wrap>525         </span></td><td><span style=white-space:pre-wrap>Clark St &amp; Touhy Ave         </span></td><td><span style=white-space:pre-wrap>RP-007      </span></td><td>casual</td></tr>\n",
       "\t<tr><td>BD0F91DFF741C66D</td><td>classic_bike </td><td>2022-01-25 04:53:40</td><td>2022-01-25 04:58:01</td><td>Sheffield Ave &amp; Fullerton Ave</td><td>TA1306000016</td><td>Greenview Ave &amp; Fullerton Ave</td><td>TA1307000001</td><td>member</td></tr>\n",
       "\t<tr><td>CBB80ED419105406</td><td>classic_bike </td><td>2022-01-04 00:18:04</td><td>2022-01-04 00:33:00</td><td><span style=white-space:pre-wrap>Clark St &amp; Bryn Mawr Ave     </span></td><td>KA1504000151</td><td><span style=white-space:pre-wrap>Paulina St &amp; Montrose Ave    </span></td><td>TA1309000021</td><td>casual</td></tr>\n",
       "\t<tr><td>DDC963BFDDA51EEA</td><td>classic_bike </td><td>2022-01-20 01:31:10</td><td>2022-01-20 01:37:12</td><td><span style=white-space:pre-wrap>Michigan Ave &amp; Jackson Blvd  </span></td><td>TA1309000002</td><td><span style=white-space:pre-wrap>State St &amp; Randolph St       </span></td><td>TA1305000029</td><td>member</td></tr>\n",
       "\t<tr><td>A39C6F6CC0586C0B</td><td>classic_bike </td><td>2022-01-11 18:48:09</td><td>2022-01-11 18:51:31</td><td><span style=white-space:pre-wrap>Wood St &amp; Chicago Ave        </span></td><td><span style=white-space:pre-wrap>637         </span></td><td><span style=white-space:pre-wrap>Honore St &amp; Division St      </span></td><td>TA1305000034</td><td>member</td></tr>\n",
       "</tbody>\n",
       "</table>\n"
      ],
      "text/latex": [
       "A tibble: 6 × 9\n",
       "\\begin{tabular}{lllllllll}\n",
       " ride\\_id & rideable\\_type & started\\_at & ended\\_at & start\\_station\\_name & start\\_station\\_id & end\\_station\\_name & end\\_station\\_id & member\\_casual\\\\\n",
       " <chr> & <chr> & <dttm> & <dttm> & <chr> & <chr> & <chr> & <chr> & <chr>\\\\\n",
       "\\hline\n",
       "\t C2F7DD78E82EC875 & electric\\_bike & 2022-01-13 11:59:47 & 2022-01-13 12:02:44 & Glenwood Ave \\& Touhy Ave      & 525          & Clark St \\& Touhy Ave          & RP-007       & casual\\\\\n",
       "\t A6CF8980A652D272 & electric\\_bike & 2022-01-10 08:41:56 & 2022-01-10 08:46:17 & Glenwood Ave \\& Touhy Ave      & 525          & Clark St \\& Touhy Ave          & RP-007       & casual\\\\\n",
       "\t BD0F91DFF741C66D & classic\\_bike  & 2022-01-25 04:53:40 & 2022-01-25 04:58:01 & Sheffield Ave \\& Fullerton Ave & TA1306000016 & Greenview Ave \\& Fullerton Ave & TA1307000001 & member\\\\\n",
       "\t CBB80ED419105406 & classic\\_bike  & 2022-01-04 00:18:04 & 2022-01-04 00:33:00 & Clark St \\& Bryn Mawr Ave      & KA1504000151 & Paulina St \\& Montrose Ave     & TA1309000021 & casual\\\\\n",
       "\t DDC963BFDDA51EEA & classic\\_bike  & 2022-01-20 01:31:10 & 2022-01-20 01:37:12 & Michigan Ave \\& Jackson Blvd   & TA1309000002 & State St \\& Randolph St        & TA1305000029 & member\\\\\n",
       "\t A39C6F6CC0586C0B & classic\\_bike  & 2022-01-11 18:48:09 & 2022-01-11 18:51:31 & Wood St \\& Chicago Ave         & 637          & Honore St \\& Division St       & TA1305000034 & member\\\\\n",
       "\\end{tabular}\n"
      ],
      "text/markdown": [
       "\n",
       "A tibble: 6 × 9\n",
       "\n",
       "| ride_id &lt;chr&gt; | rideable_type &lt;chr&gt; | started_at &lt;dttm&gt; | ended_at &lt;dttm&gt; | start_station_name &lt;chr&gt; | start_station_id &lt;chr&gt; | end_station_name &lt;chr&gt; | end_station_id &lt;chr&gt; | member_casual &lt;chr&gt; |\n",
       "|---|---|---|---|---|---|---|---|---|\n",
       "| C2F7DD78E82EC875 | electric_bike | 2022-01-13 11:59:47 | 2022-01-13 12:02:44 | Glenwood Ave &amp; Touhy Ave      | 525          | Clark St &amp; Touhy Ave          | RP-007       | casual |\n",
       "| A6CF8980A652D272 | electric_bike | 2022-01-10 08:41:56 | 2022-01-10 08:46:17 | Glenwood Ave &amp; Touhy Ave      | 525          | Clark St &amp; Touhy Ave          | RP-007       | casual |\n",
       "| BD0F91DFF741C66D | classic_bike  | 2022-01-25 04:53:40 | 2022-01-25 04:58:01 | Sheffield Ave &amp; Fullerton Ave | TA1306000016 | Greenview Ave &amp; Fullerton Ave | TA1307000001 | member |\n",
       "| CBB80ED419105406 | classic_bike  | 2022-01-04 00:18:04 | 2022-01-04 00:33:00 | Clark St &amp; Bryn Mawr Ave      | KA1504000151 | Paulina St &amp; Montrose Ave     | TA1309000021 | casual |\n",
       "| DDC963BFDDA51EEA | classic_bike  | 2022-01-20 01:31:10 | 2022-01-20 01:37:12 | Michigan Ave &amp; Jackson Blvd   | TA1309000002 | State St &amp; Randolph St        | TA1305000029 | member |\n",
       "| A39C6F6CC0586C0B | classic_bike  | 2022-01-11 18:48:09 | 2022-01-11 18:51:31 | Wood St &amp; Chicago Ave         | 637          | Honore St &amp; Division St       | TA1305000034 | member |\n",
       "\n"
      ],
      "text/plain": [
       "  ride_id          rideable_type started_at          ended_at           \n",
       "1 C2F7DD78E82EC875 electric_bike 2022-01-13 11:59:47 2022-01-13 12:02:44\n",
       "2 A6CF8980A652D272 electric_bike 2022-01-10 08:41:56 2022-01-10 08:46:17\n",
       "3 BD0F91DFF741C66D classic_bike  2022-01-25 04:53:40 2022-01-25 04:58:01\n",
       "4 CBB80ED419105406 classic_bike  2022-01-04 00:18:04 2022-01-04 00:33:00\n",
       "5 DDC963BFDDA51EEA classic_bike  2022-01-20 01:31:10 2022-01-20 01:37:12\n",
       "6 A39C6F6CC0586C0B classic_bike  2022-01-11 18:48:09 2022-01-11 18:51:31\n",
       "  start_station_name            start_station_id end_station_name             \n",
       "1 Glenwood Ave & Touhy Ave      525              Clark St & Touhy Ave         \n",
       "2 Glenwood Ave & Touhy Ave      525              Clark St & Touhy Ave         \n",
       "3 Sheffield Ave & Fullerton Ave TA1306000016     Greenview Ave & Fullerton Ave\n",
       "4 Clark St & Bryn Mawr Ave      KA1504000151     Paulina St & Montrose Ave    \n",
       "5 Michigan Ave & Jackson Blvd   TA1309000002     State St & Randolph St       \n",
       "6 Wood St & Chicago Ave         637              Honore St & Division St      \n",
       "  end_station_id member_casual\n",
       "1 RP-007         casual       \n",
       "2 RP-007         casual       \n",
       "3 TA1307000001   member       \n",
       "4 TA1309000021   casual       \n",
       "5 TA1305000029   member       \n",
       "6 TA1305000034   member       "
      ]
     },
     "metadata": {},
     "output_type": "display_data"
    }
   ],
   "source": [
    "## Removing Longitude and lattitude data for easier analysis\n",
    "\n",
    "Trip_data_2 <- subset(Trip_data, select= -c(start_lat, start_lng, end_lat, end_lng))\n",
    "head(Trip_data_2) # Cross checking the new data frame \n"
   ]
  },
  {
   "cell_type": "markdown",
   "id": "18219bf2",
   "metadata": {
    "papermill": {
     "duration": 0.02041,
     "end_time": "2024-01-19T10:17:26.096163",
     "exception": false,
     "start_time": "2024-01-19T10:17:26.075753",
     "status": "completed"
    },
    "tags": []
   },
   "source": [
    "To calculate our trip length the time stamp needs to be split into year , month , day and ride length . The following code chunks have been used "
   ]
  },
  {
   "cell_type": "code",
   "execution_count": 6,
   "id": "0e1f2e9e",
   "metadata": {
    "execution": {
     "iopub.execute_input": "2024-01-19T10:17:26.141312Z",
     "iopub.status.busy": "2024-01-19T10:17:26.139522Z",
     "iopub.status.idle": "2024-01-19T10:17:44.165360Z",
     "shell.execute_reply": "2024-01-19T10:17:44.163288Z"
    },
    "papermill": {
     "duration": 18.052278,
     "end_time": "2024-01-19T10:17:44.168571",
     "exception": false,
     "start_time": "2024-01-19T10:17:26.116293",
     "status": "completed"
    },
    "tags": []
   },
   "outputs": [],
   "source": [
    "## Our time stamp needs to split to get the Year, Month , Day and creating new column ride_length_min\n",
    "\n",
    "Trip_data_3 <- Trip_data_2 %>% \n",
    "  mutate(year = format(as.Date(started_at), \"%Y\")) %>% # year\n",
    "  mutate(month = format(as.Date(started_at), \"%B\")) %>% # month\n",
    "  mutate(date = format(as.Date(started_at), \"%d\")) %>% # date\n",
    "  mutate(day_of_week = format(as.Date(started_at), \"%A\")) %>% # day of the week\n",
    "  mutate(ride_length_min = difftime(ended_at, started_at, units = \"mins\")) %>% #ride length is in minutes\n",
    "  mutate(start_time = strftime(started_at, \"%H\"))\n",
    "\n",
    "# converting 'ride_length' to numeric for calculation on data\n",
    "\n",
    "Trip_data_3 <- Trip_data_3 %>% \n",
    "  mutate(ride_length_min = as.numeric(ride_length_min))"
   ]
  },
  {
   "cell_type": "code",
   "execution_count": 7,
   "id": "8c5348ec",
   "metadata": {
    "execution": {
     "iopub.execute_input": "2024-01-19T10:17:44.214505Z",
     "iopub.status.busy": "2024-01-19T10:17:44.212722Z",
     "iopub.status.idle": "2024-01-19T10:17:44.233436Z",
     "shell.execute_reply": "2024-01-19T10:17:44.231113Z"
    },
    "papermill": {
     "duration": 0.047241,
     "end_time": "2024-01-19T10:17:44.236104",
     "exception": false,
     "start_time": "2024-01-19T10:17:44.188863",
     "status": "completed"
    },
    "tags": []
   },
   "outputs": [
    {
     "data": {
      "text/html": [
       "'numeric'"
      ],
      "text/latex": [
       "'numeric'"
      ],
      "text/markdown": [
       "'numeric'"
      ],
      "text/plain": [
       "[1] \"numeric\""
      ]
     },
     "metadata": {},
     "output_type": "display_data"
    }
   ],
   "source": [
    "# A quick check to see that our ride length has been converted into a numeric data so that it can be used for calculations\n",
    "class(Trip_data_3$ride_length_min)\n"
   ]
  },
  {
   "cell_type": "code",
   "execution_count": 8,
   "id": "de631d12",
   "metadata": {
    "execution": {
     "iopub.execute_input": "2024-01-19T10:17:44.282916Z",
     "iopub.status.busy": "2024-01-19T10:17:44.281048Z",
     "iopub.status.idle": "2024-01-19T10:17:44.333538Z",
     "shell.execute_reply": "2024-01-19T10:17:44.331405Z"
    },
    "jupyter": {
     "source_hidden": true
    },
    "papermill": {
     "duration": 0.07947,
     "end_time": "2024-01-19T10:17:44.336358",
     "exception": false,
     "start_time": "2024-01-19T10:17:44.256888",
     "status": "completed"
    },
    "tags": []
   },
   "outputs": [
    {
     "data": {
      "text/html": [
       "<table class=\"dataframe\">\n",
       "<caption>A tibble: 6 × 15</caption>\n",
       "<thead>\n",
       "\t<tr><th scope=col>ride_id</th><th scope=col>rideable_type</th><th scope=col>started_at</th><th scope=col>ended_at</th><th scope=col>start_station_name</th><th scope=col>start_station_id</th><th scope=col>end_station_name</th><th scope=col>end_station_id</th><th scope=col>member_casual</th><th scope=col>year</th><th scope=col>month</th><th scope=col>date</th><th scope=col>day_of_week</th><th scope=col>ride_length_min</th><th scope=col>start_time</th></tr>\n",
       "\t<tr><th scope=col>&lt;chr&gt;</th><th scope=col>&lt;chr&gt;</th><th scope=col>&lt;dttm&gt;</th><th scope=col>&lt;dttm&gt;</th><th scope=col>&lt;chr&gt;</th><th scope=col>&lt;chr&gt;</th><th scope=col>&lt;chr&gt;</th><th scope=col>&lt;chr&gt;</th><th scope=col>&lt;chr&gt;</th><th scope=col>&lt;chr&gt;</th><th scope=col>&lt;chr&gt;</th><th scope=col>&lt;chr&gt;</th><th scope=col>&lt;chr&gt;</th><th scope=col>&lt;dbl&gt;</th><th scope=col>&lt;chr&gt;</th></tr>\n",
       "</thead>\n",
       "<tbody>\n",
       "\t<tr><td>C2F7DD78E82EC875</td><td>electric_bike</td><td>2022-01-13 11:59:47</td><td>2022-01-13 12:02:44</td><td><span style=white-space:pre-wrap>Glenwood Ave &amp; Touhy Ave     </span></td><td><span style=white-space:pre-wrap>525         </span></td><td><span style=white-space:pre-wrap>Clark St &amp; Touhy Ave         </span></td><td><span style=white-space:pre-wrap>RP-007      </span></td><td>casual</td><td>2022</td><td>January</td><td>13</td><td>Thursday</td><td> 2.950000</td><td>11</td></tr>\n",
       "\t<tr><td>A6CF8980A652D272</td><td>electric_bike</td><td>2022-01-10 08:41:56</td><td>2022-01-10 08:46:17</td><td><span style=white-space:pre-wrap>Glenwood Ave &amp; Touhy Ave     </span></td><td><span style=white-space:pre-wrap>525         </span></td><td><span style=white-space:pre-wrap>Clark St &amp; Touhy Ave         </span></td><td><span style=white-space:pre-wrap>RP-007      </span></td><td>casual</td><td>2022</td><td>January</td><td>10</td><td><span style=white-space:pre-wrap>Monday  </span></td><td> 4.350000</td><td>08</td></tr>\n",
       "\t<tr><td>BD0F91DFF741C66D</td><td>classic_bike </td><td>2022-01-25 04:53:40</td><td>2022-01-25 04:58:01</td><td>Sheffield Ave &amp; Fullerton Ave</td><td>TA1306000016</td><td>Greenview Ave &amp; Fullerton Ave</td><td>TA1307000001</td><td>member</td><td>2022</td><td>January</td><td>25</td><td>Tuesday </td><td> 4.350000</td><td>04</td></tr>\n",
       "\t<tr><td>CBB80ED419105406</td><td>classic_bike </td><td>2022-01-04 00:18:04</td><td>2022-01-04 00:33:00</td><td><span style=white-space:pre-wrap>Clark St &amp; Bryn Mawr Ave     </span></td><td>KA1504000151</td><td><span style=white-space:pre-wrap>Paulina St &amp; Montrose Ave    </span></td><td>TA1309000021</td><td>casual</td><td>2022</td><td>January</td><td>04</td><td>Tuesday </td><td>14.933333</td><td>00</td></tr>\n",
       "\t<tr><td>DDC963BFDDA51EEA</td><td>classic_bike </td><td>2022-01-20 01:31:10</td><td>2022-01-20 01:37:12</td><td><span style=white-space:pre-wrap>Michigan Ave &amp; Jackson Blvd  </span></td><td>TA1309000002</td><td><span style=white-space:pre-wrap>State St &amp; Randolph St       </span></td><td>TA1305000029</td><td>member</td><td>2022</td><td>January</td><td>20</td><td>Thursday</td><td> 6.033333</td><td>01</td></tr>\n",
       "\t<tr><td>A39C6F6CC0586C0B</td><td>classic_bike </td><td>2022-01-11 18:48:09</td><td>2022-01-11 18:51:31</td><td><span style=white-space:pre-wrap>Wood St &amp; Chicago Ave        </span></td><td><span style=white-space:pre-wrap>637         </span></td><td><span style=white-space:pre-wrap>Honore St &amp; Division St      </span></td><td>TA1305000034</td><td>member</td><td>2022</td><td>January</td><td>11</td><td>Tuesday </td><td> 3.366667</td><td>18</td></tr>\n",
       "</tbody>\n",
       "</table>\n"
      ],
      "text/latex": [
       "A tibble: 6 × 15\n",
       "\\begin{tabular}{lllllllllllllll}\n",
       " ride\\_id & rideable\\_type & started\\_at & ended\\_at & start\\_station\\_name & start\\_station\\_id & end\\_station\\_name & end\\_station\\_id & member\\_casual & year & month & date & day\\_of\\_week & ride\\_length\\_min & start\\_time\\\\\n",
       " <chr> & <chr> & <dttm> & <dttm> & <chr> & <chr> & <chr> & <chr> & <chr> & <chr> & <chr> & <chr> & <chr> & <dbl> & <chr>\\\\\n",
       "\\hline\n",
       "\t C2F7DD78E82EC875 & electric\\_bike & 2022-01-13 11:59:47 & 2022-01-13 12:02:44 & Glenwood Ave \\& Touhy Ave      & 525          & Clark St \\& Touhy Ave          & RP-007       & casual & 2022 & January & 13 & Thursday &  2.950000 & 11\\\\\n",
       "\t A6CF8980A652D272 & electric\\_bike & 2022-01-10 08:41:56 & 2022-01-10 08:46:17 & Glenwood Ave \\& Touhy Ave      & 525          & Clark St \\& Touhy Ave          & RP-007       & casual & 2022 & January & 10 & Monday   &  4.350000 & 08\\\\\n",
       "\t BD0F91DFF741C66D & classic\\_bike  & 2022-01-25 04:53:40 & 2022-01-25 04:58:01 & Sheffield Ave \\& Fullerton Ave & TA1306000016 & Greenview Ave \\& Fullerton Ave & TA1307000001 & member & 2022 & January & 25 & Tuesday  &  4.350000 & 04\\\\\n",
       "\t CBB80ED419105406 & classic\\_bike  & 2022-01-04 00:18:04 & 2022-01-04 00:33:00 & Clark St \\& Bryn Mawr Ave      & KA1504000151 & Paulina St \\& Montrose Ave     & TA1309000021 & casual & 2022 & January & 04 & Tuesday  & 14.933333 & 00\\\\\n",
       "\t DDC963BFDDA51EEA & classic\\_bike  & 2022-01-20 01:31:10 & 2022-01-20 01:37:12 & Michigan Ave \\& Jackson Blvd   & TA1309000002 & State St \\& Randolph St        & TA1305000029 & member & 2022 & January & 20 & Thursday &  6.033333 & 01\\\\\n",
       "\t A39C6F6CC0586C0B & classic\\_bike  & 2022-01-11 18:48:09 & 2022-01-11 18:51:31 & Wood St \\& Chicago Ave         & 637          & Honore St \\& Division St       & TA1305000034 & member & 2022 & January & 11 & Tuesday  &  3.366667 & 18\\\\\n",
       "\\end{tabular}\n"
      ],
      "text/markdown": [
       "\n",
       "A tibble: 6 × 15\n",
       "\n",
       "| ride_id &lt;chr&gt; | rideable_type &lt;chr&gt; | started_at &lt;dttm&gt; | ended_at &lt;dttm&gt; | start_station_name &lt;chr&gt; | start_station_id &lt;chr&gt; | end_station_name &lt;chr&gt; | end_station_id &lt;chr&gt; | member_casual &lt;chr&gt; | year &lt;chr&gt; | month &lt;chr&gt; | date &lt;chr&gt; | day_of_week &lt;chr&gt; | ride_length_min &lt;dbl&gt; | start_time &lt;chr&gt; |\n",
       "|---|---|---|---|---|---|---|---|---|---|---|---|---|---|---|\n",
       "| C2F7DD78E82EC875 | electric_bike | 2022-01-13 11:59:47 | 2022-01-13 12:02:44 | Glenwood Ave &amp; Touhy Ave      | 525          | Clark St &amp; Touhy Ave          | RP-007       | casual | 2022 | January | 13 | Thursday |  2.950000 | 11 |\n",
       "| A6CF8980A652D272 | electric_bike | 2022-01-10 08:41:56 | 2022-01-10 08:46:17 | Glenwood Ave &amp; Touhy Ave      | 525          | Clark St &amp; Touhy Ave          | RP-007       | casual | 2022 | January | 10 | Monday   |  4.350000 | 08 |\n",
       "| BD0F91DFF741C66D | classic_bike  | 2022-01-25 04:53:40 | 2022-01-25 04:58:01 | Sheffield Ave &amp; Fullerton Ave | TA1306000016 | Greenview Ave &amp; Fullerton Ave | TA1307000001 | member | 2022 | January | 25 | Tuesday  |  4.350000 | 04 |\n",
       "| CBB80ED419105406 | classic_bike  | 2022-01-04 00:18:04 | 2022-01-04 00:33:00 | Clark St &amp; Bryn Mawr Ave      | KA1504000151 | Paulina St &amp; Montrose Ave     | TA1309000021 | casual | 2022 | January | 04 | Tuesday  | 14.933333 | 00 |\n",
       "| DDC963BFDDA51EEA | classic_bike  | 2022-01-20 01:31:10 | 2022-01-20 01:37:12 | Michigan Ave &amp; Jackson Blvd   | TA1309000002 | State St &amp; Randolph St        | TA1305000029 | member | 2022 | January | 20 | Thursday |  6.033333 | 01 |\n",
       "| A39C6F6CC0586C0B | classic_bike  | 2022-01-11 18:48:09 | 2022-01-11 18:51:31 | Wood St &amp; Chicago Ave         | 637          | Honore St &amp; Division St       | TA1305000034 | member | 2022 | January | 11 | Tuesday  |  3.366667 | 18 |\n",
       "\n"
      ],
      "text/plain": [
       "  ride_id          rideable_type started_at          ended_at           \n",
       "1 C2F7DD78E82EC875 electric_bike 2022-01-13 11:59:47 2022-01-13 12:02:44\n",
       "2 A6CF8980A652D272 electric_bike 2022-01-10 08:41:56 2022-01-10 08:46:17\n",
       "3 BD0F91DFF741C66D classic_bike  2022-01-25 04:53:40 2022-01-25 04:58:01\n",
       "4 CBB80ED419105406 classic_bike  2022-01-04 00:18:04 2022-01-04 00:33:00\n",
       "5 DDC963BFDDA51EEA classic_bike  2022-01-20 01:31:10 2022-01-20 01:37:12\n",
       "6 A39C6F6CC0586C0B classic_bike  2022-01-11 18:48:09 2022-01-11 18:51:31\n",
       "  start_station_name            start_station_id end_station_name             \n",
       "1 Glenwood Ave & Touhy Ave      525              Clark St & Touhy Ave         \n",
       "2 Glenwood Ave & Touhy Ave      525              Clark St & Touhy Ave         \n",
       "3 Sheffield Ave & Fullerton Ave TA1306000016     Greenview Ave & Fullerton Ave\n",
       "4 Clark St & Bryn Mawr Ave      KA1504000151     Paulina St & Montrose Ave    \n",
       "5 Michigan Ave & Jackson Blvd   TA1309000002     State St & Randolph St       \n",
       "6 Wood St & Chicago Ave         637              Honore St & Division St      \n",
       "  end_station_id member_casual year month   date day_of_week ride_length_min\n",
       "1 RP-007         casual        2022 January 13   Thursday     2.950000      \n",
       "2 RP-007         casual        2022 January 10   Monday       4.350000      \n",
       "3 TA1307000001   member        2022 January 25   Tuesday      4.350000      \n",
       "4 TA1309000021   casual        2022 January 04   Tuesday     14.933333      \n",
       "5 TA1305000029   member        2022 January 20   Thursday     6.033333      \n",
       "6 TA1305000034   member        2022 January 11   Tuesday      3.366667      \n",
       "  start_time\n",
       "1 11        \n",
       "2 08        \n",
       "3 04        \n",
       "4 00        \n",
       "5 01        \n",
       "6 18        "
      ]
     },
     "metadata": {},
     "output_type": "display_data"
    }
   ],
   "source": [
    "# \n",
    "head(Trip_data_3)"
   ]
  },
  {
   "cell_type": "markdown",
   "id": "7470a4be",
   "metadata": {
    "papermill": {
     "duration": 0.021729,
     "end_time": "2024-01-19T10:17:44.379844",
     "exception": false,
     "start_time": "2024-01-19T10:17:44.358115",
     "status": "completed"
    },
    "tags": []
   },
   "source": [
    "Our data contains astronomical ride lenghth values or outliers, zero and negative values and such this needs to processed. As such i have decided to use values within 24 hours for procsesing."
   ]
  },
  {
   "cell_type": "code",
   "execution_count": 9,
   "id": "aa8a892d",
   "metadata": {
    "execution": {
     "iopub.execute_input": "2024-01-19T10:17:44.427591Z",
     "iopub.status.busy": "2024-01-19T10:17:44.425765Z",
     "iopub.status.idle": "2024-01-19T10:17:44.491815Z",
     "shell.execute_reply": "2024-01-19T10:17:44.489727Z"
    },
    "papermill": {
     "duration": 0.092998,
     "end_time": "2024-01-19T10:17:44.494625",
     "exception": false,
     "start_time": "2024-01-19T10:17:44.401627",
     "status": "completed"
    },
    "tags": []
   },
   "outputs": [
    {
     "data": {
      "text/html": [
       "5360"
      ],
      "text/latex": [
       "5360"
      ],
      "text/markdown": [
       "5360"
      ],
      "text/plain": [
       "[1] 5360"
      ]
     },
     "metadata": {},
     "output_type": "display_data"
    },
    {
     "data": {
      "text/html": [
       "121089"
      ],
      "text/latex": [
       "121089"
      ],
      "text/markdown": [
       "121089"
      ],
      "text/plain": [
       "[1] 121089"
      ]
     },
     "metadata": {},
     "output_type": "display_data"
    }
   ],
   "source": [
    "# Check data in ride_lenght_min where minutes are >= 1440 and <=1\n",
    "\n",
    "sum(Trip_data_3$ride_length_min > 1440)\n",
    "sum(Trip_data_3$ride_length_min < 1)\n",
    "\n",
    "# This is to check for invalid data which needs to be eliminated from the analysis \n",
    "\n"
   ]
  },
  {
   "cell_type": "code",
   "execution_count": 10,
   "id": "86f303cc",
   "metadata": {
    "execution": {
     "iopub.execute_input": "2024-01-19T10:17:44.543082Z",
     "iopub.status.busy": "2024-01-19T10:17:44.541216Z",
     "iopub.status.idle": "2024-01-19T10:17:45.753164Z",
     "shell.execute_reply": "2024-01-19T10:17:45.751111Z"
    },
    "jupyter": {
     "source_hidden": true
    },
    "papermill": {
     "duration": 1.238739,
     "end_time": "2024-01-19T10:17:45.755898",
     "exception": false,
     "start_time": "2024-01-19T10:17:44.517159",
     "status": "completed"
    },
    "tags": []
   },
   "outputs": [],
   "source": [
    "# remove outlier data \n",
    "Trip_data_4 <- Trip_data_3 %>%\n",
    "filter(ride_length_min >=1 & ride_length_min <= 1440)"
   ]
  },
  {
   "cell_type": "code",
   "execution_count": 11,
   "id": "50014478",
   "metadata": {
    "execution": {
     "iopub.execute_input": "2024-01-19T10:17:45.803929Z",
     "iopub.status.busy": "2024-01-19T10:17:45.802253Z",
     "iopub.status.idle": "2024-01-19T10:17:47.826369Z",
     "shell.execute_reply": "2024-01-19T10:17:47.823929Z"
    },
    "jupyter": {
     "source_hidden": true
    },
    "papermill": {
     "duration": 2.051396,
     "end_time": "2024-01-19T10:17:47.829277",
     "exception": false,
     "start_time": "2024-01-19T10:17:45.777881",
     "status": "completed"
    },
    "tags": []
   },
   "outputs": [
    {
     "data": {
      "text/plain": [
       "   ride_id          rideable_type        started_at                 \n",
       " Length:5541268     Length:5541268     Min.   :2022-01-01 00:00:05  \n",
       " Class :character   Class :character   1st Qu.:2022-05-28 17:50:47  \n",
       " Mode  :character   Mode  :character   Median :2022-07-22 12:42:57  \n",
       "                                       Mean   :2022-07-20 04:29:58  \n",
       "                                       3rd Qu.:2022-09-15 23:31:46  \n",
       "                                       Max.   :2022-12-31 23:59:26  \n",
       "    ended_at                   start_station_name start_station_id  \n",
       " Min.   :2022-01-01 00:01:48   Length:5541268     Length:5541268    \n",
       " 1st Qu.:2022-05-28 18:13:21   Class :character   Class :character  \n",
       " Median :2022-07-22 13:02:10   Mode  :character   Mode  :character  \n",
       " Mean   :2022-07-20 04:46:35                                        \n",
       " 3rd Qu.:2022-09-15 23:48:01                                        \n",
       " Max.   :2023-01-01 18:09:37                                        \n",
       " end_station_name   end_station_id     member_casual          year          \n",
       " Length:5541268     Length:5541268     Length:5541268     Length:5541268    \n",
       " Class :character   Class :character   Class :character   Class :character  \n",
       " Mode  :character   Mode  :character   Mode  :character   Mode  :character  \n",
       "                                                                            \n",
       "                                                                            \n",
       "                                                                            \n",
       "    month               date           day_of_week        ride_length_min   \n",
       " Length:5541268     Length:5541268     Length:5541268     Min.   :   1.000  \n",
       " Class :character   Class :character   Class :character   1st Qu.:   6.067  \n",
       " Mode  :character   Mode  :character   Mode  :character   Median :  10.517  \n",
       "                                                          Mean   :  16.613  \n",
       "                                                          3rd Qu.:  18.700  \n",
       "                                                          Max.   :1439.933  \n",
       "  start_time       \n",
       " Length:5541268    \n",
       " Class :character  \n",
       " Mode  :character  \n",
       "                   \n",
       "                   \n",
       "                   "
      ]
     },
     "metadata": {},
     "output_type": "display_data"
    }
   ],
   "source": [
    "summary(Trip_data_4)\n"
   ]
  },
  {
   "cell_type": "markdown",
   "id": "361f6b5e",
   "metadata": {
    "papermill": {
     "duration": 0.023451,
     "end_time": "2024-01-19T10:17:47.881731",
     "exception": false,
     "start_time": "2024-01-19T10:17:47.858280",
     "status": "completed"
    },
    "tags": []
   },
   "source": [
    "# Analyze Phase\n",
    "\n",
    "Once we have sorted out the data lets look at descriptive analysis of the data to find patterns between member and casual riders.\n",
    "\n"
   ]
  },
  {
   "cell_type": "code",
   "execution_count": 12,
   "id": "d52cfa8c",
   "metadata": {
    "execution": {
     "iopub.execute_input": "2024-01-19T10:17:47.932406Z",
     "iopub.status.busy": "2024-01-19T10:17:47.930594Z",
     "iopub.status.idle": "2024-01-19T10:17:48.176980Z",
     "shell.execute_reply": "2024-01-19T10:17:48.174867Z"
    },
    "papermill": {
     "duration": 0.274463,
     "end_time": "2024-01-19T10:17:48.179916",
     "exception": false,
     "start_time": "2024-01-19T10:17:47.905453",
     "status": "completed"
    },
    "tags": []
   },
   "outputs": [
    {
     "data": {
      "text/html": [
       "<table class=\"dataframe\">\n",
       "<caption>A tibble: 1 × 4</caption>\n",
       "<thead>\n",
       "\t<tr><th scope=col>average_length_ride</th><th scope=col>median_length</th><th scope=col>Longest_ride_lenth</th><th scope=col>shortest_ride_lenght</th></tr>\n",
       "\t<tr><th scope=col>&lt;dbl&gt;</th><th scope=col>&lt;dbl&gt;</th><th scope=col>&lt;dbl&gt;</th><th scope=col>&lt;dbl&gt;</th></tr>\n",
       "</thead>\n",
       "<tbody>\n",
       "\t<tr><td>16.61257</td><td>10.51667</td><td>1439.933</td><td>1</td></tr>\n",
       "</tbody>\n",
       "</table>\n"
      ],
      "text/latex": [
       "A tibble: 1 × 4\n",
       "\\begin{tabular}{llll}\n",
       " average\\_length\\_ride & median\\_length & Longest\\_ride\\_lenth & shortest\\_ride\\_lenght\\\\\n",
       " <dbl> & <dbl> & <dbl> & <dbl>\\\\\n",
       "\\hline\n",
       "\t 16.61257 & 10.51667 & 1439.933 & 1\\\\\n",
       "\\end{tabular}\n"
      ],
      "text/markdown": [
       "\n",
       "A tibble: 1 × 4\n",
       "\n",
       "| average_length_ride &lt;dbl&gt; | median_length &lt;dbl&gt; | Longest_ride_lenth &lt;dbl&gt; | shortest_ride_lenght &lt;dbl&gt; |\n",
       "|---|---|---|---|\n",
       "| 16.61257 | 10.51667 | 1439.933 | 1 |\n",
       "\n"
      ],
      "text/plain": [
       "  average_length_ride median_length Longest_ride_lenth shortest_ride_lenght\n",
       "1 16.61257            10.51667      1439.933           1                   "
      ]
     },
     "metadata": {},
     "output_type": "display_data"
    }
   ],
   "source": [
    "Trip_data_4 %>%\n",
    "summarize(average_length_ride = mean(ride_length_min), median_length =median(ride_length_min), Longest_ride_lenth = max(ride_length_min), shortest_ride_lenght = min(ride_length_min))\n"
   ]
  },
  {
   "cell_type": "markdown",
   "id": "6ce0b7f1",
   "metadata": {
    "papermill": {
     "duration": 0.02331,
     "end_time": "2024-01-19T10:17:48.230471",
     "exception": false,
     "start_time": "2024-01-19T10:17:48.207161",
     "status": "completed"
    },
    "tags": []
   },
   "source": [
    "  A quick descriptive analysis shows that the average ride for the dataset is 16.6 minutes and the longest ride being 1439.9 minutes whilst the shortest ride is 1 minute long."
   ]
  },
  {
   "cell_type": "code",
   "execution_count": 13,
   "id": "242519e6",
   "metadata": {
    "execution": {
     "iopub.execute_input": "2024-01-19T10:17:48.318888Z",
     "iopub.status.busy": "2024-01-19T10:17:48.316991Z",
     "iopub.status.idle": "2024-01-19T10:18:11.937276Z",
     "shell.execute_reply": "2024-01-19T10:18:11.935416Z"
    },
    "jupyter": {
     "source_hidden": true
    },
    "papermill": {
     "duration": 23.647859,
     "end_time": "2024-01-19T10:18:11.940341",
     "exception": false,
     "start_time": "2024-01-19T10:17:48.292482",
     "status": "completed"
    },
    "tags": []
   },
   "outputs": [
    {
     "data": {
      "text/html": [
       "<table class=\"dataframe\">\n",
       "<caption>A tibble: 2 × 3</caption>\n",
       "<thead>\n",
       "\t<tr><th scope=col>member_casual</th><th scope=col>ride_count</th><th scope=col>ride_percentage</th></tr>\n",
       "\t<tr><th scope=col>&lt;chr&gt;</th><th scope=col>&lt;int&gt;</th><th scope=col>&lt;dbl&gt;</th></tr>\n",
       "</thead>\n",
       "<tbody>\n",
       "\t<tr><td>casual</td><td>2269498</td><td>40.95629</td></tr>\n",
       "\t<tr><td>member</td><td>3271770</td><td>59.04371</td></tr>\n",
       "</tbody>\n",
       "</table>\n"
      ],
      "text/latex": [
       "A tibble: 2 × 3\n",
       "\\begin{tabular}{lll}\n",
       " member\\_casual & ride\\_count & ride\\_percentage\\\\\n",
       " <chr> & <int> & <dbl>\\\\\n",
       "\\hline\n",
       "\t casual & 2269498 & 40.95629\\\\\n",
       "\t member & 3271770 & 59.04371\\\\\n",
       "\\end{tabular}\n"
      ],
      "text/markdown": [
       "\n",
       "A tibble: 2 × 3\n",
       "\n",
       "| member_casual &lt;chr&gt; | ride_count &lt;int&gt; | ride_percentage &lt;dbl&gt; |\n",
       "|---|---|---|\n",
       "| casual | 2269498 | 40.95629 |\n",
       "| member | 3271770 | 59.04371 |\n",
       "\n"
      ],
      "text/plain": [
       "  member_casual ride_count ride_percentage\n",
       "1 casual        2269498    40.95629       \n",
       "2 member        3271770    59.04371       "
      ]
     },
     "metadata": {},
     "output_type": "display_data"
    },
    {
     "name": "stderr",
     "output_type": "stream",
     "text": [
      "\u001b[1m\u001b[22mSaving 12.5 x 6.67 in image\n"
     ]
    },
    {
     "data": {
      "image/png": "[encoded data removed]"
     },
     "metadata": {
      "image/png": {
       "height": 420,
       "width": 420
      }
     },
     "output_type": "display_data"
    }
   ],
   "source": [
    "Trip_data_4 %>%\n",
    "group_by(member_casual) %>%\n",
    "summarise(ride_count = length(ride_id), ride_percentage = (length(ride_id) / nrow(Trip_data_4)) * 100)\n",
    "\n",
    "ggplot(data = Trip_data_4) + \n",
    "geom_bar(mapping = aes (x = member_casual, fill = member_casual)) + \n",
    "labs(x = \"User Type\", y = \"Count\", title = \"Total number of rides between Member and Casual riders\") +\n",
    "annotate(\"text\", x = 1, y = 2000000, label = \"41%\", color = \"black\", size = 4) + \n",
    "annotate(\"text\", x = 2, y = 2500000, label = \"59%\", color = \"black\", size = 4)\n",
    "\n",
    "ggsave(\"Distribution of rides between Casual &m member.png\")\n"
   ]
  },
  {
   "cell_type": "markdown",
   "id": "067440a3",
   "metadata": {
    "papermill": {
     "duration": 0.023456,
     "end_time": "2024-01-19T10:18:11.987157",
     "exception": false,
     "start_time": "2024-01-19T10:18:11.963701",
     "status": "completed"
    },
    "tags": []
   },
   "source": [
    "* The above bar chart shows the distribution between members and casual riders. From the chart 59% of the riders where memebers  whilst 41% where casual riders."
   ]
  },
  {
   "cell_type": "code",
   "execution_count": 14,
   "id": "586ccfd5",
   "metadata": {
    "execution": {
     "iopub.execute_input": "2024-01-19T10:18:12.037401Z",
     "iopub.status.busy": "2024-01-19T10:18:12.035697Z",
     "iopub.status.idle": "2024-01-19T10:18:33.662271Z",
     "shell.execute_reply": "2024-01-19T10:18:33.660252Z"
    },
    "jupyter": {
     "source_hidden": true
    },
    "papermill": {
     "duration": 21.65564,
     "end_time": "2024-01-19T10:18:33.665468",
     "exception": false,
     "start_time": "2024-01-19T10:18:12.009828",
     "status": "completed"
    },
    "tags": []
   },
   "outputs": [
    {
     "name": "stderr",
     "output_type": "stream",
     "text": [
      "\u001b[1m\u001b[22m`summarise()` has grouped output by 'member_casual'. You can override using the\n",
      "`.groups` argument.\n"
     ]
    },
    {
     "data": {
      "text/html": [
       "<table class=\"dataframe\">\n",
       "<caption>A grouped_df: 5 × 4</caption>\n",
       "<thead>\n",
       "\t<tr><th scope=col>member_casual</th><th scope=col>rideable_type</th><th scope=col>count</th><th scope=col>Bike_Type_percentage</th></tr>\n",
       "\t<tr><th scope=col>&lt;chr&gt;</th><th scope=col>&lt;chr&gt;</th><th scope=col>&lt;int&gt;</th><th scope=col>&lt;dbl&gt;</th></tr>\n",
       "</thead>\n",
       "<tbody>\n",
       "\t<tr><td>casual</td><td>classic_bike </td><td> 876075</td><td>15.457282</td></tr>\n",
       "\t<tr><td>casual</td><td>docked_bike  </td><td> 173921</td><td> 3.068625</td></tr>\n",
       "\t<tr><td>casual</td><td>electric_bike</td><td>1219502</td><td>21.516635</td></tr>\n",
       "\t<tr><td>member</td><td>classic_bike </td><td>1683292</td><td>29.699648</td></tr>\n",
       "\t<tr><td>member</td><td>electric_bike</td><td>1588478</td><td>28.026770</td></tr>\n",
       "</tbody>\n",
       "</table>\n"
      ],
      "text/latex": [
       "A grouped\\_df: 5 × 4\n",
       "\\begin{tabular}{llll}\n",
       " member\\_casual & rideable\\_type & count & Bike\\_Type\\_percentage\\\\\n",
       " <chr> & <chr> & <int> & <dbl>\\\\\n",
       "\\hline\n",
       "\t casual & classic\\_bike  &  876075 & 15.457282\\\\\n",
       "\t casual & docked\\_bike   &  173921 &  3.068625\\\\\n",
       "\t casual & electric\\_bike & 1219502 & 21.516635\\\\\n",
       "\t member & classic\\_bike  & 1683292 & 29.699648\\\\\n",
       "\t member & electric\\_bike & 1588478 & 28.026770\\\\\n",
       "\\end{tabular}\n"
      ],
      "text/markdown": [
       "\n",
       "A grouped_df: 5 × 4\n",
       "\n",
       "| member_casual &lt;chr&gt; | rideable_type &lt;chr&gt; | count &lt;int&gt; | Bike_Type_percentage &lt;dbl&gt; |\n",
       "|---|---|---|---|\n",
       "| casual | classic_bike  |  876075 | 15.457282 |\n",
       "| casual | docked_bike   |  173921 |  3.068625 |\n",
       "| casual | electric_bike | 1219502 | 21.516635 |\n",
       "| member | classic_bike  | 1683292 | 29.699648 |\n",
       "| member | electric_bike | 1588478 | 28.026770 |\n",
       "\n"
      ],
      "text/plain": [
       "  member_casual rideable_type count   Bike_Type_percentage\n",
       "1 casual        classic_bike   876075 15.457282           \n",
       "2 casual        docked_bike    173921  3.068625           \n",
       "3 casual        electric_bike 1219502 21.516635           \n",
       "4 member        classic_bike  1683292 29.699648           \n",
       "5 member        electric_bike 1588478 28.026770           "
      ]
     },
     "metadata": {},
     "output_type": "display_data"
    },
    {
     "name": "stderr",
     "output_type": "stream",
     "text": [
      "\u001b[1m\u001b[22mSaving 12.5 x 6.67 in image\n"
     ]
    },
    {
     "data": {
      "image/png": "[encoded data removed]"
     },
     "metadata": {
      "image/png": {
       "height": 420,
       "width": 420
      }
     },
     "output_type": "display_data"
    }
   ],
   "source": [
    "Trip_data_4 %>%\n",
    "group_by(member_casual, rideable_type) %>%\n",
    "summarise(count = length(ride_id), Bike_Type_percentage = (length(ride_id)/ nrow(Trip_data))*100)\n",
    "\n",
    "ggplot(data = Trip_data_4) +\n",
    "geom_bar(mapping = aes( x = member_casual, fill= rideable_type)) +\n",
    "labs(title = \"Total number of rides: Member vs Casual vs Bike Type\", x = \"User Type\", y = \"Count\")\n",
    "\n",
    "ggsave(\"Total number of rides: Member vs Casual vs Bike Type.png\")"
   ]
  },
  {
   "cell_type": "markdown",
   "id": "4765992d",
   "metadata": {
    "papermill": {
     "duration": 0.024806,
     "end_time": "2024-01-19T10:18:33.715359",
     "exception": false,
     "start_time": "2024-01-19T10:18:33.690553",
     "status": "completed"
    },
    "tags": []
   },
   "source": [
    "* The above chart shows the distribution of rides based on the user type as well as the bike type used. \n",
    "* From both groups it can be shown that a large percentage of each group ( 28.02% and 21.51% respectively)  uses an electric bike followed by the classic. A small percenatge of docked bikes are used by casual members."
   ]
  },
  {
   "cell_type": "markdown",
   "id": "8af8d4ff",
   "metadata": {
    "papermill": {
     "duration": 0.025086,
     "end_time": "2024-01-19T10:18:33.764623",
     "exception": false,
     "start_time": "2024-01-19T10:18:33.739537",
     "status": "completed"
    },
    "tags": []
   },
   "source": [
    "## Analyzing ride length\n",
    "\n",
    "The charts below show analysis based on the lenghths of rides in  minutes across each user type"
   ]
  },
  {
   "cell_type": "code",
   "execution_count": 15,
   "id": "e5a6f4d1",
   "metadata": {
    "execution": {
     "iopub.execute_input": "2024-01-19T10:18:33.818475Z",
     "iopub.status.busy": "2024-01-19T10:18:33.816624Z",
     "iopub.status.idle": "2024-01-19T10:18:34.170320Z",
     "shell.execute_reply": "2024-01-19T10:18:34.167732Z"
    },
    "jupyter": {
     "source_hidden": true
    },
    "papermill": {
     "duration": 0.383921,
     "end_time": "2024-01-19T10:18:34.173417",
     "exception": false,
     "start_time": "2024-01-19T10:18:33.789496",
     "status": "completed"
    },
    "tags": []
   },
   "outputs": [
    {
     "data": {
      "text/html": [
       "<table class=\"dataframe\">\n",
       "<caption>A tibble: 2 × 5</caption>\n",
       "<thead>\n",
       "\t<tr><th scope=col>member_casual</th><th scope=col>Average_length_min</th><th scope=col>Median_length_min</th><th scope=col>Max_ride_length</th><th scope=col>Min_ride_length</th></tr>\n",
       "\t<tr><th scope=col>&lt;chr&gt;</th><th scope=col>&lt;dbl&gt;</th><th scope=col>&lt;dbl&gt;</th><th scope=col>&lt;dbl&gt;</th><th scope=col>&lt;dbl&gt;</th></tr>\n",
       "</thead>\n",
       "<tbody>\n",
       "\t<tr><td>casual</td><td>22.30499</td><td>13.266667</td><td>1439.933</td><td>1</td></tr>\n",
       "\t<tr><td>member</td><td>12.66396</td><td> 9.033333</td><td>1439.833</td><td>1</td></tr>\n",
       "</tbody>\n",
       "</table>\n"
      ],
      "text/latex": [
       "A tibble: 2 × 5\n",
       "\\begin{tabular}{lllll}\n",
       " member\\_casual & Average\\_length\\_min & Median\\_length\\_min & Max\\_ride\\_length & Min\\_ride\\_length\\\\\n",
       " <chr> & <dbl> & <dbl> & <dbl> & <dbl>\\\\\n",
       "\\hline\n",
       "\t casual & 22.30499 & 13.266667 & 1439.933 & 1\\\\\n",
       "\t member & 12.66396 &  9.033333 & 1439.833 & 1\\\\\n",
       "\\end{tabular}\n"
      ],
      "text/markdown": [
       "\n",
       "A tibble: 2 × 5\n",
       "\n",
       "| member_casual &lt;chr&gt; | Average_length_min &lt;dbl&gt; | Median_length_min &lt;dbl&gt; | Max_ride_length &lt;dbl&gt; | Min_ride_length &lt;dbl&gt; |\n",
       "|---|---|---|---|---|\n",
       "| casual | 22.30499 | 13.266667 | 1439.933 | 1 |\n",
       "| member | 12.66396 |  9.033333 | 1439.833 | 1 |\n",
       "\n"
      ],
      "text/plain": [
       "  member_casual Average_length_min Median_length_min Max_ride_length\n",
       "1 casual        22.30499           13.266667         1439.933       \n",
       "2 member        12.66396            9.033333         1439.833       \n",
       "  Min_ride_length\n",
       "1 1              \n",
       "2 1              "
      ]
     },
     "metadata": {},
     "output_type": "display_data"
    }
   ],
   "source": [
    "Trip_data_4 %>%\n",
    "group_by(member_casual) %>%\n",
    "summarise(Average_length_min = mean(ride_length_min), Median_length_min = median(ride_length_min), Max_ride_length = max(ride_length_min), Min_ride_length = min(ride_length_min))"
   ]
  },
  {
   "cell_type": "markdown",
   "id": "8425bede",
   "metadata": {
    "papermill": {
     "duration": 0.025311,
     "end_time": "2024-01-19T10:18:34.222669",
     "exception": false,
     "start_time": "2024-01-19T10:18:34.197358",
     "status": "completed"
    },
    "tags": []
   },
   "source": [
    "* The above data shows that the average ride length between casual and annual members, casual riders have a higher average length ride of 22 minutes compared to 12 minutes for member riders."
   ]
  },
  {
   "cell_type": "markdown",
   "id": "3bca6b8e",
   "metadata": {
    "papermill": {
     "duration": 0.0241,
     "end_time": "2024-01-19T10:18:34.270858",
     "exception": false,
     "start_time": "2024-01-19T10:18:34.246758",
     "status": "completed"
    },
    "tags": []
   },
   "source": [
    "The next step was  to find any trends with regards ride length when its segmented into time intervals to understand how much spent biking. "
   ]
  },
  {
   "cell_type": "code",
   "execution_count": 16,
   "id": "121d3a04",
   "metadata": {
    "execution": {
     "iopub.execute_input": "2024-01-19T10:18:34.323312Z",
     "iopub.status.busy": "2024-01-19T10:18:34.321379Z",
     "iopub.status.idle": "2024-01-19T10:18:35.366242Z",
     "shell.execute_reply": "2024-01-19T10:18:35.364261Z"
    },
    "jupyter": {
     "source_hidden": true
    },
    "papermill": {
     "duration": 1.073806,
     "end_time": "2024-01-19T10:18:35.368800",
     "exception": false,
     "start_time": "2024-01-19T10:18:34.294994",
     "status": "completed"
    },
    "tags": []
   },
   "outputs": [
    {
     "data": {
      "text/html": [
       "<table class=\"dataframe\">\n",
       "<caption>A tibble: 2 × 11</caption>\n",
       "<thead>\n",
       "\t<tr><th scope=col>member_casual</th><th scope=col>1-10 min</th><th scope=col>11-20 min</th><th scope=col>21-30 min</th><th scope=col>31-40 min</th><th scope=col>41-50 min</th><th scope=col>51-60 min</th><th scope=col>61-70 min</th><th scope=col>71-80 min</th><th scope=col>81-90 min</th><th scope=col>91+ min</th></tr>\n",
       "\t<tr><th scope=col>&lt;chr&gt;</th><th scope=col>&lt;int&gt;</th><th scope=col>&lt;int&gt;</th><th scope=col>&lt;int&gt;</th><th scope=col>&lt;int&gt;</th><th scope=col>&lt;int&gt;</th><th scope=col>&lt;int&gt;</th><th scope=col>&lt;int&gt;</th><th scope=col>&lt;int&gt;</th><th scope=col>&lt;int&gt;</th><th scope=col>&lt;int&gt;</th></tr>\n",
       "</thead>\n",
       "<tbody>\n",
       "\t<tr><td>casual</td><td> 934002</td><td>647404</td><td>286366</td><td>138110</td><td>76858</td><td>48815</td><td>33693</td><td>23678</td><td>17442</td><td>63130</td></tr>\n",
       "\t<tr><td>member</td><td>1957025</td><td>837086</td><td>284588</td><td>114514</td><td>42449</td><td>14030</td><td> 6663</td><td> 3730</td><td> 2374</td><td> 9311</td></tr>\n",
       "</tbody>\n",
       "</table>\n"
      ],
      "text/latex": [
       "A tibble: 2 × 11\n",
       "\\begin{tabular}{lllllllllll}\n",
       " member\\_casual & 1-10 min & 11-20 min & 21-30 min & 31-40 min & 41-50 min & 51-60 min & 61-70 min & 71-80 min & 81-90 min & 91+ min\\\\\n",
       " <chr> & <int> & <int> & <int> & <int> & <int> & <int> & <int> & <int> & <int> & <int>\\\\\n",
       "\\hline\n",
       "\t casual &  934002 & 647404 & 286366 & 138110 & 76858 & 48815 & 33693 & 23678 & 17442 & 63130\\\\\n",
       "\t member & 1957025 & 837086 & 284588 & 114514 & 42449 & 14030 &  6663 &  3730 &  2374 &  9311\\\\\n",
       "\\end{tabular}\n"
      ],
      "text/markdown": [
       "\n",
       "A tibble: 2 × 11\n",
       "\n",
       "| member_casual &lt;chr&gt; | 1-10 min &lt;int&gt; | 11-20 min &lt;int&gt; | 21-30 min &lt;int&gt; | 31-40 min &lt;int&gt; | 41-50 min &lt;int&gt; | 51-60 min &lt;int&gt; | 61-70 min &lt;int&gt; | 71-80 min &lt;int&gt; | 81-90 min &lt;int&gt; | 91+ min &lt;int&gt; |\n",
       "|---|---|---|---|---|---|---|---|---|---|---|\n",
       "| casual |  934002 | 647404 | 286366 | 138110 | 76858 | 48815 | 33693 | 23678 | 17442 | 63130 |\n",
       "| member | 1957025 | 837086 | 284588 | 114514 | 42449 | 14030 |  6663 |  3730 |  2374 |  9311 |\n",
       "\n"
      ],
      "text/plain": [
       "  member_casual 1-10 min 11-20 min 21-30 min 31-40 min 41-50 min 51-60 min\n",
       "1 casual         934002  647404    286366    138110    76858     48815    \n",
       "2 member        1957025  837086    284588    114514    42449     14030    \n",
       "  61-70 min 71-80 min 81-90 min 91+ min\n",
       "1 33693     23678     17442     63130  \n",
       "2  6663      3730      2374      9311  "
      ]
     },
     "metadata": {},
     "output_type": "display_data"
    }
   ],
   "source": [
    "# ride lenghth segmented into ride lenghth interval to check if there are any trends available () \n",
    "# Time in miniutes will be roundedcoff to 2 dc.p\n",
    "\n",
    "Trip_data_4 %>% \n",
    "   group_by(member_casual) %>% \n",
    "  summarize(\"1-10 min\" = sum(ride_length_min >=1.00 & ride_length_min <= 10.99),\n",
    "            \"11-20 min\" = sum(ride_length_min >= 11 & ride_length_min <= 20.99),\n",
    "            \"21-30 min\" = sum(ride_length_min >= 21 & ride_length_min <= 30.99),\n",
    "            \"31-40 min\" = sum(ride_length_min >= 31 & ride_length_min <= 40.99),\n",
    "            \"41-50 min\" = sum(ride_length_min >= 41 & ride_length_min <= 50.99),\n",
    "            \"51-60 min\" = sum(ride_length_min >= 51 & ride_length_min <= 60.99),\n",
    "            \"61-70 min\" = sum(ride_length_min >= 61 & ride_length_min <= 70.99),\n",
    "            \"71-80 min\" = sum(ride_length_min >= 71 & ride_length_min <= 80.99),\n",
    "            \"81-90 min\" = sum(ride_length_min >= 81 & ride_length_min <= 90.99),\n",
    "            \"91+ min\" = sum(ride_length_min >= 91))"
   ]
  },
  {
   "cell_type": "markdown",
   "id": "42fd3684",
   "metadata": {
    "papermill": {
     "duration": 0.025783,
     "end_time": "2024-01-19T10:18:35.419343",
     "exception": false,
     "start_time": "2024-01-19T10:18:35.393560",
     "status": "completed"
    },
    "tags": []
   },
   "source": [
    "* The above tibble shows the distribution of ride lengths across time invtervals of total ride time. \n",
    "* There is a high concentratuon of riders with a ride time between 1-10 and 11-20 minutes for both casual and and member riders which should be taken note.\n",
    "* Another point to note is casual riders account for more long rides as the ride increases when compared to members.\n",
    "* The above data can be further represented using a bar chart below "
   ]
  },
  {
   "cell_type": "code",
   "execution_count": 17,
   "id": "d294c0b9",
   "metadata": {
    "execution": {
     "iopub.execute_input": "2024-01-19T10:18:35.474394Z",
     "iopub.status.busy": "2024-01-19T10:18:35.472600Z",
     "iopub.status.idle": "2024-01-19T10:18:37.925495Z",
     "shell.execute_reply": "2024-01-19T10:18:37.923392Z"
    },
    "jupyter": {
     "source_hidden": true
    },
    "papermill": {
     "duration": 2.485077,
     "end_time": "2024-01-19T10:18:37.929552",
     "exception": false,
     "start_time": "2024-01-19T10:18:35.444475",
     "status": "completed"
    },
    "tags": []
   },
   "outputs": [],
   "source": [
    "# In order to visualise the above data a new column is created to show the intervall times\n",
    "\n",
    "Trip_data_4 <- Trip_data_4 %>% \n",
    "mutate(ride_length_bar = case_when( ride_length_min <= 10 ~ \"<10\",\n",
    "    ride_length_min >= 11 & ride_length_min <= 20.99 ~ \"11-20\",\n",
    "    ride_length_min >= 21 & ride_length_min <= 30.99 ~ \"21-30\",\n",
    "    ride_length_min >= 31 & ride_length_min <= 40.99 ~ \"31-40\",\n",
    "    ride_length_min >= 41 & ride_length_min <= 50.99 ~ \"41-50\",\n",
    "    ride_length_min >= 51 & ride_length_min <= 60.99 ~ \"51-60\",\n",
    "    ride_length_min >= 61 & ride_length_min <= 70.99 ~ \"61-70\",\n",
    "    ride_length_min >= 71 & ride_length_min <= 80.99 ~ \"71-80\",\n",
    "    ride_length_min >= 81 & ride_length_min <= 90.99 ~ \"81-90\",\n",
    "    ride_length_min >90  ~ \"90+\"))"
   ]
  },
  {
   "cell_type": "code",
   "execution_count": 18,
   "id": "45a47757",
   "metadata": {
    "execution": {
     "iopub.execute_input": "2024-01-19T10:18:37.983098Z",
     "iopub.status.busy": "2024-01-19T10:18:37.981212Z",
     "iopub.status.idle": "2024-01-19T10:18:38.036162Z",
     "shell.execute_reply": "2024-01-19T10:18:38.033378Z"
    },
    "jupyter": {
     "source_hidden": true
    },
    "papermill": {
     "duration": 0.085061,
     "end_time": "2024-01-19T10:18:38.039281",
     "exception": false,
     "start_time": "2024-01-19T10:18:37.954220",
     "status": "completed"
    },
    "tags": []
   },
   "outputs": [
    {
     "data": {
      "text/html": [
       "<table class=\"dataframe\">\n",
       "<caption>A tibble: 6 × 16</caption>\n",
       "<thead>\n",
       "\t<tr><th scope=col>ride_id</th><th scope=col>rideable_type</th><th scope=col>started_at</th><th scope=col>ended_at</th><th scope=col>start_station_name</th><th scope=col>start_station_id</th><th scope=col>end_station_name</th><th scope=col>end_station_id</th><th scope=col>member_casual</th><th scope=col>year</th><th scope=col>month</th><th scope=col>date</th><th scope=col>day_of_week</th><th scope=col>ride_length_min</th><th scope=col>start_time</th><th scope=col>ride_length_bar</th></tr>\n",
       "\t<tr><th scope=col>&lt;chr&gt;</th><th scope=col>&lt;chr&gt;</th><th scope=col>&lt;dttm&gt;</th><th scope=col>&lt;dttm&gt;</th><th scope=col>&lt;chr&gt;</th><th scope=col>&lt;chr&gt;</th><th scope=col>&lt;chr&gt;</th><th scope=col>&lt;chr&gt;</th><th scope=col>&lt;chr&gt;</th><th scope=col>&lt;chr&gt;</th><th scope=col>&lt;chr&gt;</th><th scope=col>&lt;chr&gt;</th><th scope=col>&lt;chr&gt;</th><th scope=col>&lt;dbl&gt;</th><th scope=col>&lt;chr&gt;</th><th scope=col>&lt;chr&gt;</th></tr>\n",
       "</thead>\n",
       "<tbody>\n",
       "\t<tr><td>C2F7DD78E82EC875</td><td>electric_bike</td><td>2022-01-13 11:59:47</td><td>2022-01-13 12:02:44</td><td><span style=white-space:pre-wrap>Glenwood Ave &amp; Touhy Ave     </span></td><td><span style=white-space:pre-wrap>525         </span></td><td><span style=white-space:pre-wrap>Clark St &amp; Touhy Ave         </span></td><td><span style=white-space:pre-wrap>RP-007      </span></td><td>casual</td><td>2022</td><td>January</td><td>13</td><td>Thursday</td><td> 2.950000</td><td>11</td><td><span style=white-space:pre-wrap>&lt;10  </span></td></tr>\n",
       "\t<tr><td>A6CF8980A652D272</td><td>electric_bike</td><td>2022-01-10 08:41:56</td><td>2022-01-10 08:46:17</td><td><span style=white-space:pre-wrap>Glenwood Ave &amp; Touhy Ave     </span></td><td><span style=white-space:pre-wrap>525         </span></td><td><span style=white-space:pre-wrap>Clark St &amp; Touhy Ave         </span></td><td><span style=white-space:pre-wrap>RP-007      </span></td><td>casual</td><td>2022</td><td>January</td><td>10</td><td><span style=white-space:pre-wrap>Monday  </span></td><td> 4.350000</td><td>08</td><td><span style=white-space:pre-wrap>&lt;10  </span></td></tr>\n",
       "\t<tr><td>BD0F91DFF741C66D</td><td>classic_bike </td><td>2022-01-25 04:53:40</td><td>2022-01-25 04:58:01</td><td>Sheffield Ave &amp; Fullerton Ave</td><td>TA1306000016</td><td>Greenview Ave &amp; Fullerton Ave</td><td>TA1307000001</td><td>member</td><td>2022</td><td>January</td><td>25</td><td>Tuesday </td><td> 4.350000</td><td>04</td><td><span style=white-space:pre-wrap>&lt;10  </span></td></tr>\n",
       "\t<tr><td>CBB80ED419105406</td><td>classic_bike </td><td>2022-01-04 00:18:04</td><td>2022-01-04 00:33:00</td><td><span style=white-space:pre-wrap>Clark St &amp; Bryn Mawr Ave     </span></td><td>KA1504000151</td><td><span style=white-space:pre-wrap>Paulina St &amp; Montrose Ave    </span></td><td>TA1309000021</td><td>casual</td><td>2022</td><td>January</td><td>04</td><td>Tuesday </td><td>14.933333</td><td>00</td><td>11-20</td></tr>\n",
       "\t<tr><td>DDC963BFDDA51EEA</td><td>classic_bike </td><td>2022-01-20 01:31:10</td><td>2022-01-20 01:37:12</td><td><span style=white-space:pre-wrap>Michigan Ave &amp; Jackson Blvd  </span></td><td>TA1309000002</td><td><span style=white-space:pre-wrap>State St &amp; Randolph St       </span></td><td>TA1305000029</td><td>member</td><td>2022</td><td>January</td><td>20</td><td>Thursday</td><td> 6.033333</td><td>01</td><td><span style=white-space:pre-wrap>&lt;10  </span></td></tr>\n",
       "\t<tr><td>A39C6F6CC0586C0B</td><td>classic_bike </td><td>2022-01-11 18:48:09</td><td>2022-01-11 18:51:31</td><td><span style=white-space:pre-wrap>Wood St &amp; Chicago Ave        </span></td><td><span style=white-space:pre-wrap>637         </span></td><td><span style=white-space:pre-wrap>Honore St &amp; Division St      </span></td><td>TA1305000034</td><td>member</td><td>2022</td><td>January</td><td>11</td><td>Tuesday </td><td> 3.366667</td><td>18</td><td><span style=white-space:pre-wrap>&lt;10  </span></td></tr>\n",
       "</tbody>\n",
       "</table>\n"
      ],
      "text/latex": [
       "A tibble: 6 × 16\n",
       "\\begin{tabular}{llllllllllllllll}\n",
       " ride\\_id & rideable\\_type & started\\_at & ended\\_at & start\\_station\\_name & start\\_station\\_id & end\\_station\\_name & end\\_station\\_id & member\\_casual & year & month & date & day\\_of\\_week & ride\\_length\\_min & start\\_time & ride\\_length\\_bar\\\\\n",
       " <chr> & <chr> & <dttm> & <dttm> & <chr> & <chr> & <chr> & <chr> & <chr> & <chr> & <chr> & <chr> & <chr> & <dbl> & <chr> & <chr>\\\\\n",
       "\\hline\n",
       "\t C2F7DD78E82EC875 & electric\\_bike & 2022-01-13 11:59:47 & 2022-01-13 12:02:44 & Glenwood Ave \\& Touhy Ave      & 525          & Clark St \\& Touhy Ave          & RP-007       & casual & 2022 & January & 13 & Thursday &  2.950000 & 11 & <10  \\\\\n",
       "\t A6CF8980A652D272 & electric\\_bike & 2022-01-10 08:41:56 & 2022-01-10 08:46:17 & Glenwood Ave \\& Touhy Ave      & 525          & Clark St \\& Touhy Ave          & RP-007       & casual & 2022 & January & 10 & Monday   &  4.350000 & 08 & <10  \\\\\n",
       "\t BD0F91DFF741C66D & classic\\_bike  & 2022-01-25 04:53:40 & 2022-01-25 04:58:01 & Sheffield Ave \\& Fullerton Ave & TA1306000016 & Greenview Ave \\& Fullerton Ave & TA1307000001 & member & 2022 & January & 25 & Tuesday  &  4.350000 & 04 & <10  \\\\\n",
       "\t CBB80ED419105406 & classic\\_bike  & 2022-01-04 00:18:04 & 2022-01-04 00:33:00 & Clark St \\& Bryn Mawr Ave      & KA1504000151 & Paulina St \\& Montrose Ave     & TA1309000021 & casual & 2022 & January & 04 & Tuesday  & 14.933333 & 00 & 11-20\\\\\n",
       "\t DDC963BFDDA51EEA & classic\\_bike  & 2022-01-20 01:31:10 & 2022-01-20 01:37:12 & Michigan Ave \\& Jackson Blvd   & TA1309000002 & State St \\& Randolph St        & TA1305000029 & member & 2022 & January & 20 & Thursday &  6.033333 & 01 & <10  \\\\\n",
       "\t A39C6F6CC0586C0B & classic\\_bike  & 2022-01-11 18:48:09 & 2022-01-11 18:51:31 & Wood St \\& Chicago Ave         & 637          & Honore St \\& Division St       & TA1305000034 & member & 2022 & January & 11 & Tuesday  &  3.366667 & 18 & <10  \\\\\n",
       "\\end{tabular}\n"
      ],
      "text/markdown": [
       "\n",
       "A tibble: 6 × 16\n",
       "\n",
       "| ride_id &lt;chr&gt; | rideable_type &lt;chr&gt; | started_at &lt;dttm&gt; | ended_at &lt;dttm&gt; | start_station_name &lt;chr&gt; | start_station_id &lt;chr&gt; | end_station_name &lt;chr&gt; | end_station_id &lt;chr&gt; | member_casual &lt;chr&gt; | year &lt;chr&gt; | month &lt;chr&gt; | date &lt;chr&gt; | day_of_week &lt;chr&gt; | ride_length_min &lt;dbl&gt; | start_time &lt;chr&gt; | ride_length_bar &lt;chr&gt; |\n",
       "|---|---|---|---|---|---|---|---|---|---|---|---|---|---|---|---|\n",
       "| C2F7DD78E82EC875 | electric_bike | 2022-01-13 11:59:47 | 2022-01-13 12:02:44 | Glenwood Ave &amp; Touhy Ave      | 525          | Clark St &amp; Touhy Ave          | RP-007       | casual | 2022 | January | 13 | Thursday |  2.950000 | 11 | &lt;10   |\n",
       "| A6CF8980A652D272 | electric_bike | 2022-01-10 08:41:56 | 2022-01-10 08:46:17 | Glenwood Ave &amp; Touhy Ave      | 525          | Clark St &amp; Touhy Ave          | RP-007       | casual | 2022 | January | 10 | Monday   |  4.350000 | 08 | &lt;10   |\n",
       "| BD0F91DFF741C66D | classic_bike  | 2022-01-25 04:53:40 | 2022-01-25 04:58:01 | Sheffield Ave &amp; Fullerton Ave | TA1306000016 | Greenview Ave &amp; Fullerton Ave | TA1307000001 | member | 2022 | January | 25 | Tuesday  |  4.350000 | 04 | &lt;10   |\n",
       "| CBB80ED419105406 | classic_bike  | 2022-01-04 00:18:04 | 2022-01-04 00:33:00 | Clark St &amp; Bryn Mawr Ave      | KA1504000151 | Paulina St &amp; Montrose Ave     | TA1309000021 | casual | 2022 | January | 04 | Tuesday  | 14.933333 | 00 | 11-20 |\n",
       "| DDC963BFDDA51EEA | classic_bike  | 2022-01-20 01:31:10 | 2022-01-20 01:37:12 | Michigan Ave &amp; Jackson Blvd   | TA1309000002 | State St &amp; Randolph St        | TA1305000029 | member | 2022 | January | 20 | Thursday |  6.033333 | 01 | &lt;10   |\n",
       "| A39C6F6CC0586C0B | classic_bike  | 2022-01-11 18:48:09 | 2022-01-11 18:51:31 | Wood St &amp; Chicago Ave         | 637          | Honore St &amp; Division St       | TA1305000034 | member | 2022 | January | 11 | Tuesday  |  3.366667 | 18 | &lt;10   |\n",
       "\n"
      ],
      "text/plain": [
       "  ride_id          rideable_type started_at          ended_at           \n",
       "1 C2F7DD78E82EC875 electric_bike 2022-01-13 11:59:47 2022-01-13 12:02:44\n",
       "2 A6CF8980A652D272 electric_bike 2022-01-10 08:41:56 2022-01-10 08:46:17\n",
       "3 BD0F91DFF741C66D classic_bike  2022-01-25 04:53:40 2022-01-25 04:58:01\n",
       "4 CBB80ED419105406 classic_bike  2022-01-04 00:18:04 2022-01-04 00:33:00\n",
       "5 DDC963BFDDA51EEA classic_bike  2022-01-20 01:31:10 2022-01-20 01:37:12\n",
       "6 A39C6F6CC0586C0B classic_bike  2022-01-11 18:48:09 2022-01-11 18:51:31\n",
       "  start_station_name            start_station_id end_station_name             \n",
       "1 Glenwood Ave & Touhy Ave      525              Clark St & Touhy Ave         \n",
       "2 Glenwood Ave & Touhy Ave      525              Clark St & Touhy Ave         \n",
       "3 Sheffield Ave & Fullerton Ave TA1306000016     Greenview Ave & Fullerton Ave\n",
       "4 Clark St & Bryn Mawr Ave      KA1504000151     Paulina St & Montrose Ave    \n",
       "5 Michigan Ave & Jackson Blvd   TA1309000002     State St & Randolph St       \n",
       "6 Wood St & Chicago Ave         637              Honore St & Division St      \n",
       "  end_station_id member_casual year month   date day_of_week ride_length_min\n",
       "1 RP-007         casual        2022 January 13   Thursday     2.950000      \n",
       "2 RP-007         casual        2022 January 10   Monday       4.350000      \n",
       "3 TA1307000001   member        2022 January 25   Tuesday      4.350000      \n",
       "4 TA1309000021   casual        2022 January 04   Tuesday     14.933333      \n",
       "5 TA1305000029   member        2022 January 20   Thursday     6.033333      \n",
       "6 TA1305000034   member        2022 January 11   Tuesday      3.366667      \n",
       "  start_time ride_length_bar\n",
       "1 11         <10            \n",
       "2 08         <10            \n",
       "3 04         <10            \n",
       "4 00         11-20          \n",
       "5 01         <10            \n",
       "6 18         <10            "
      ]
     },
     "metadata": {},
     "output_type": "display_data"
    }
   ],
   "source": [
    "# Quick check to see if the column has been added\n",
    "head(Trip_data_4)"
   ]
  },
  {
   "cell_type": "code",
   "execution_count": 19,
   "id": "ec18d394",
   "metadata": {
    "execution": {
     "iopub.execute_input": "2024-01-19T10:18:38.094690Z",
     "iopub.status.busy": "2024-01-19T10:18:38.092738Z",
     "iopub.status.idle": "2024-01-19T10:18:41.860332Z",
     "shell.execute_reply": "2024-01-19T10:18:41.858424Z"
    },
    "jupyter": {
     "source_hidden": true
    },
    "papermill": {
     "duration": 3.799099,
     "end_time": "2024-01-19T10:18:41.863406",
     "exception": false,
     "start_time": "2024-01-19T10:18:38.064307",
     "status": "completed"
    },
    "tags": []
   },
   "outputs": [
    {
     "name": "stderr",
     "output_type": "stream",
     "text": [
      "\u001b[1m\u001b[22m`summarise()` has grouped output by 'member_casual'. You can override using the\n",
      "`.groups` argument.\n",
      "\u001b[1m\u001b[22mSaving 12.5 x 6.67 in image\n"
     ]
    },
    {
     "data": {
      "image/png": "[encoded data removed]"
     },
     "metadata": {
      "image/png": {
       "height": 420,
       "width": 420
      }
     },
     "output_type": "display_data"
    }
   ],
   "source": [
    "\n",
    "# Plot bar graph of time intervals\n",
    "Trip_data_4 %>%\n",
    "filter(!(is.na(ride_length_bar))) %>%\n",
    "group_by( member_casual, ride_length_bar) %>%\n",
    "summarise(count = n()) %>%\n",
    "ggplot(aes(x = ride_length_bar, y = count, fill = member_casual )) +\n",
    "geom_col( position = \"dodge\", width = 0.8) +\n",
    "labs(title = \"Total number of rides and ride length category\", x = \"Ride Length Interval(min)\", y = \"Total number of riders\")\n",
    "\n",
    "ggsave(\"Total number of rides and Ride Length.png\")"
   ]
  },
  {
   "cell_type": "markdown",
   "id": "0a2ca425",
   "metadata": {
    "papermill": {
     "duration": 0.027429,
     "end_time": "2024-01-19T10:18:41.918659",
     "exception": false,
     "start_time": "2024-01-19T10:18:41.891230",
     "status": "completed"
    },
    "tags": []
   },
   "source": [
    "* From the above visualization the bulk of riders both from casual and annual members fall under rides which take 20 minutes or less.\n",
    "* The number of casual riders is higher when compared to member riders as the ride length increases."
   ]
  },
  {
   "cell_type": "code",
   "execution_count": 20,
   "id": "39777a1f",
   "metadata": {
    "execution": {
     "iopub.execute_input": "2024-01-19T10:18:41.975231Z",
     "iopub.status.busy": "2024-01-19T10:18:41.973341Z",
     "iopub.status.idle": "2024-01-19T10:18:42.496251Z",
     "shell.execute_reply": "2024-01-19T10:18:42.494180Z"
    },
    "jupyter": {
     "source_hidden": true
    },
    "papermill": {
     "duration": 0.554163,
     "end_time": "2024-01-19T10:18:42.499114",
     "exception": false,
     "start_time": "2024-01-19T10:18:41.944951",
     "status": "completed"
    },
    "tags": []
   },
   "outputs": [
    {
     "data": {
      "text/html": [
       "<table class=\"dataframe\">\n",
       "<caption>A tibble: 2 × 8</caption>\n",
       "<thead>\n",
       "\t<tr><th scope=col>member_casual</th><th scope=col>Monday</th><th scope=col>Tuesday</th><th scope=col>Wednesday</th><th scope=col>Thursday</th><th scope=col>Friday</th><th scope=col>Saturday</th><th scope=col>Sunday</th></tr>\n",
       "\t<tr><th scope=col>&lt;chr&gt;</th><th scope=col>&lt;int&gt;</th><th scope=col>&lt;int&gt;</th><th scope=col>&lt;int&gt;</th><th scope=col>&lt;int&gt;</th><th scope=col>&lt;int&gt;</th><th scope=col>&lt;int&gt;</th><th scope=col>&lt;int&gt;</th></tr>\n",
       "</thead>\n",
       "<tbody>\n",
       "\t<tr><td>casual</td><td>271513</td><td>257788</td><td>268304</td><td>302444</td><td>327074</td><td>462343</td><td>380032</td></tr>\n",
       "\t<tr><td>member</td><td>463174</td><td>507676</td><td>512528</td><td>520683</td><td>456820</td><td>432749</td><td>378140</td></tr>\n",
       "</tbody>\n",
       "</table>\n"
      ],
      "text/latex": [
       "A tibble: 2 × 8\n",
       "\\begin{tabular}{llllllll}\n",
       " member\\_casual & Monday & Tuesday & Wednesday & Thursday & Friday & Saturday & Sunday\\\\\n",
       " <chr> & <int> & <int> & <int> & <int> & <int> & <int> & <int>\\\\\n",
       "\\hline\n",
       "\t casual & 271513 & 257788 & 268304 & 302444 & 327074 & 462343 & 380032\\\\\n",
       "\t member & 463174 & 507676 & 512528 & 520683 & 456820 & 432749 & 378140\\\\\n",
       "\\end{tabular}\n"
      ],
      "text/markdown": [
       "\n",
       "A tibble: 2 × 8\n",
       "\n",
       "| member_casual &lt;chr&gt; | Monday &lt;int&gt; | Tuesday &lt;int&gt; | Wednesday &lt;int&gt; | Thursday &lt;int&gt; | Friday &lt;int&gt; | Saturday &lt;int&gt; | Sunday &lt;int&gt; |\n",
       "|---|---|---|---|---|---|---|---|\n",
       "| casual | 271513 | 257788 | 268304 | 302444 | 327074 | 462343 | 380032 |\n",
       "| member | 463174 | 507676 | 512528 | 520683 | 456820 | 432749 | 378140 |\n",
       "\n"
      ],
      "text/plain": [
       "  member_casual Monday Tuesday Wednesday Thursday Friday Saturday Sunday\n",
       "1 casual        271513 257788  268304    302444   327074 462343   380032\n",
       "2 member        463174 507676  512528    520683   456820 432749   378140"
      ]
     },
     "metadata": {},
     "output_type": "display_data"
    }
   ],
   "source": [
    "# summary of total rides against the day of the week\n",
    "\n",
    "Trip_data_4 %>%\n",
    "group_by(member_casual) %>%\n",
    "summarize ( \"Monday\" = sum(day_of_week == \"Monday\"),\n",
    "          \"Tuesday\" = sum(day_of_week == \"Tuesday\"),\n",
    "           \"Wednesday\" = sum(day_of_week == \"Wednesday\"),\n",
    "           \"Thursday\" = sum(day_of_week == \"Thursday\"),\n",
    "           \"Friday\" = sum(day_of_week == \"Friday\"),\n",
    "           \"Saturday\" = sum(day_of_week == \"Saturday\"),\n",
    "           \"Sunday\" = sum(day_of_week == \"Sunday\"))\n"
   ]
  },
  {
   "cell_type": "code",
   "execution_count": 21,
   "id": "8603b8aa",
   "metadata": {
    "execution": {
     "iopub.execute_input": "2024-01-19T10:18:42.555970Z",
     "iopub.status.busy": "2024-01-19T10:18:42.553752Z",
     "iopub.status.idle": "2024-01-19T10:18:43.790984Z",
     "shell.execute_reply": "2024-01-19T10:18:43.788072Z"
    },
    "jupyter": {
     "source_hidden": true
    },
    "papermill": {
     "duration": 1.269151,
     "end_time": "2024-01-19T10:18:43.794582",
     "exception": false,
     "start_time": "2024-01-19T10:18:42.525431",
     "status": "completed"
    },
    "tags": []
   },
   "outputs": [
    {
     "name": "stderr",
     "output_type": "stream",
     "text": [
      "\u001b[1m\u001b[22m`summarise()` has grouped output by 'member_casual'. You can override using the\n",
      "`.groups` argument.\n",
      "\u001b[1m\u001b[22mSaving 12.5 x 6.67 in image\n"
     ]
    },
    {
     "data": {
      "image/png": "[encoded data removed]"
     },
     "metadata": {
      "image/png": {
       "height": 420,
       "width": 420
      }
     },
     "output_type": "display_data"
    }
   ],
   "source": [
    "Trip_data_4$day_of_week <- ordered(Trip_data_4$day_of_week, \n",
    "                                       levels=c(\"Monday\", \"Tuesday\",\"Wednesday\", \"Thursday\", \"Friday\", \"Saturday\", \"Sunday\"))\n",
    "\n",
    "Trip_data_4 %>%\n",
    "group_by(member_casual, day_of_week) %>%\n",
    "summarise(count = n()) %>%\n",
    "ggplot(aes( x = day_of_week, y = count , fill = member_casual)) +\n",
    "geom_col( position = \"dodge\", width = 0.4) +\n",
    "labs(title = \"Total number of rides by Members and Casuals vs day of the week\", y = \"Total number of rides\", x = \"Day of the week\")\n",
    "\n",
    "ggsave(\"Total Ride Users and Day of week.png\")\n"
   ]
  },
  {
   "cell_type": "markdown",
   "id": "49a4bdb7",
   "metadata": {
    "papermill": {
     "duration": 0.027776,
     "end_time": "2024-01-19T10:18:43.850369",
     "exception": false,
     "start_time": "2024-01-19T10:18:43.822593",
     "status": "completed"
    },
    "tags": []
   },
   "source": [
    "* Members tend to take more rides during the week compared to casual riders as shown from the above graph, whereas casual riders tend to have more rides during the weekend compared to member riders."
   ]
  },
  {
   "cell_type": "code",
   "execution_count": 22,
   "id": "880705c1",
   "metadata": {
    "execution": {
     "iopub.execute_input": "2024-01-19T10:18:43.910803Z",
     "iopub.status.busy": "2024-01-19T10:18:43.908995Z",
     "iopub.status.idle": "2024-01-19T10:18:44.228997Z",
     "shell.execute_reply": "2024-01-19T10:18:44.226425Z"
    },
    "jupyter": {
     "source_hidden": true
    },
    "papermill": {
     "duration": 0.354808,
     "end_time": "2024-01-19T10:18:44.232537",
     "exception": false,
     "start_time": "2024-01-19T10:18:43.877729",
     "status": "completed"
    },
    "tags": []
   },
   "outputs": [
    {
     "name": "stderr",
     "output_type": "stream",
     "text": [
      "\u001b[1m\u001b[22m`summarise()` has grouped output by 'member_casual'. You can override using the\n",
      "`.groups` argument.\n"
     ]
    },
    {
     "data": {
      "text/html": [
       "<table class=\"dataframe\">\n",
       "<caption>A grouped_df: 24 × 3</caption>\n",
       "<thead>\n",
       "\t<tr><th scope=col>member_casual</th><th scope=col>month</th><th scope=col>number_of_rides</th></tr>\n",
       "\t<tr><th scope=col>&lt;chr&gt;</th><th scope=col>&lt;chr&gt;</th><th scope=col>&lt;int&gt;</th></tr>\n",
       "</thead>\n",
       "<tbody>\n",
       "\t<tr><td>casual</td><td>April    </td><td>123803</td></tr>\n",
       "\t<tr><td>casual</td><td>August   </td><td>350519</td></tr>\n",
       "\t<tr><td>casual</td><td>December </td><td> 43650</td></tr>\n",
       "\t<tr><td>casual</td><td>February </td><td> 20917</td></tr>\n",
       "\t<tr><td>casual</td><td>January  </td><td> 18087</td></tr>\n",
       "\t<tr><td>casual</td><td>July     </td><td>396872</td></tr>\n",
       "\t<tr><td>casual</td><td>June     </td><td>361048</td></tr>\n",
       "\t<tr><td>casual</td><td>March    </td><td> 88116</td></tr>\n",
       "\t<tr><td>casual</td><td>May      </td><td>274539</td></tr>\n",
       "\t<tr><td>casual</td><td>November </td><td> 98211</td></tr>\n",
       "\t<tr><td>casual</td><td>October  </td><td>203883</td></tr>\n",
       "\t<tr><td>casual</td><td>September</td><td>289853</td></tr>\n",
       "\t<tr><td>member</td><td>April    </td><td>239827</td></tr>\n",
       "\t<tr><td>member</td><td>August   </td><td>417117</td></tr>\n",
       "\t<tr><td>member</td><td>December </td><td>133259</td></tr>\n",
       "\t<tr><td>member</td><td>February </td><td> 92046</td></tr>\n",
       "\t<tr><td>member</td><td>January  </td><td> 83744</td></tr>\n",
       "\t<tr><td>member</td><td>July     </td><td>407943</td></tr>\n",
       "\t<tr><td>member</td><td>June     </td><td>391795</td></tr>\n",
       "\t<tr><td>member</td><td>March    </td><td>190566</td></tr>\n",
       "\t<tr><td>member</td><td>May      </td><td>347243</td></tr>\n",
       "\t<tr><td>member</td><td>November </td><td>231631</td></tr>\n",
       "\t<tr><td>member</td><td>October  </td><td>341270</td></tr>\n",
       "\t<tr><td>member</td><td>September</td><td>395329</td></tr>\n",
       "</tbody>\n",
       "</table>\n"
      ],
      "text/latex": [
       "A grouped\\_df: 24 × 3\n",
       "\\begin{tabular}{lll}\n",
       " member\\_casual & month & number\\_of\\_rides\\\\\n",
       " <chr> & <chr> & <int>\\\\\n",
       "\\hline\n",
       "\t casual & April     & 123803\\\\\n",
       "\t casual & August    & 350519\\\\\n",
       "\t casual & December  &  43650\\\\\n",
       "\t casual & February  &  20917\\\\\n",
       "\t casual & January   &  18087\\\\\n",
       "\t casual & July      & 396872\\\\\n",
       "\t casual & June      & 361048\\\\\n",
       "\t casual & March     &  88116\\\\\n",
       "\t casual & May       & 274539\\\\\n",
       "\t casual & November  &  98211\\\\\n",
       "\t casual & October   & 203883\\\\\n",
       "\t casual & September & 289853\\\\\n",
       "\t member & April     & 239827\\\\\n",
       "\t member & August    & 417117\\\\\n",
       "\t member & December  & 133259\\\\\n",
       "\t member & February  &  92046\\\\\n",
       "\t member & January   &  83744\\\\\n",
       "\t member & July      & 407943\\\\\n",
       "\t member & June      & 391795\\\\\n",
       "\t member & March     & 190566\\\\\n",
       "\t member & May       & 347243\\\\\n",
       "\t member & November  & 231631\\\\\n",
       "\t member & October   & 341270\\\\\n",
       "\t member & September & 395329\\\\\n",
       "\\end{tabular}\n"
      ],
      "text/markdown": [
       "\n",
       "A grouped_df: 24 × 3\n",
       "\n",
       "| member_casual &lt;chr&gt; | month &lt;chr&gt; | number_of_rides &lt;int&gt; |\n",
       "|---|---|---|\n",
       "| casual | April     | 123803 |\n",
       "| casual | August    | 350519 |\n",
       "| casual | December  |  43650 |\n",
       "| casual | February  |  20917 |\n",
       "| casual | January   |  18087 |\n",
       "| casual | July      | 396872 |\n",
       "| casual | June      | 361048 |\n",
       "| casual | March     |  88116 |\n",
       "| casual | May       | 274539 |\n",
       "| casual | November  |  98211 |\n",
       "| casual | October   | 203883 |\n",
       "| casual | September | 289853 |\n",
       "| member | April     | 239827 |\n",
       "| member | August    | 417117 |\n",
       "| member | December  | 133259 |\n",
       "| member | February  |  92046 |\n",
       "| member | January   |  83744 |\n",
       "| member | July      | 407943 |\n",
       "| member | June      | 391795 |\n",
       "| member | March     | 190566 |\n",
       "| member | May       | 347243 |\n",
       "| member | November  | 231631 |\n",
       "| member | October   | 341270 |\n",
       "| member | September | 395329 |\n",
       "\n"
      ],
      "text/plain": [
       "   member_casual month     number_of_rides\n",
       "1  casual        April     123803         \n",
       "2  casual        August    350519         \n",
       "3  casual        December   43650         \n",
       "4  casual        February   20917         \n",
       "5  casual        January    18087         \n",
       "6  casual        July      396872         \n",
       "7  casual        June      361048         \n",
       "8  casual        March      88116         \n",
       "9  casual        May       274539         \n",
       "10 casual        November   98211         \n",
       "11 casual        October   203883         \n",
       "12 casual        September 289853         \n",
       "13 member        April     239827         \n",
       "14 member        August    417117         \n",
       "15 member        December  133259         \n",
       "16 member        February   92046         \n",
       "17 member        January    83744         \n",
       "18 member        July      407943         \n",
       "19 member        June      391795         \n",
       "20 member        March     190566         \n",
       "21 member        May       347243         \n",
       "22 member        November  231631         \n",
       "23 member        October   341270         \n",
       "24 member        September 395329         "
      ]
     },
     "metadata": {},
     "output_type": "display_data"
    }
   ],
   "source": [
    "# Monthly total number of riders \n",
    "Trip_data_4 %>% \n",
    "  group_by(member_casual, month) %>%  \n",
    "  summarise(number_of_rides = n()) %>% \n",
    "  arrange(member_casual, month)"
   ]
  },
  {
   "cell_type": "code",
   "execution_count": 23,
   "id": "d3a91bde",
   "metadata": {
    "execution": {
     "iopub.execute_input": "2024-01-19T10:18:44.293613Z",
     "iopub.status.busy": "2024-01-19T10:18:44.291816Z",
     "iopub.status.idle": "2024-01-19T10:18:46.001924Z",
     "shell.execute_reply": "2024-01-19T10:18:45.999844Z"
    },
    "jupyter": {
     "source_hidden": true
    },
    "papermill": {
     "duration": 1.742985,
     "end_time": "2024-01-19T10:18:46.004536",
     "exception": false,
     "start_time": "2024-01-19T10:18:44.261551",
     "status": "completed"
    },
    "tags": []
   },
   "outputs": [
    {
     "name": "stderr",
     "output_type": "stream",
     "text": [
      "\u001b[1m\u001b[22m`summarise()` has grouped output by 'member_casual'. You can override using the\n",
      "`.groups` argument.\n",
      "\u001b[1m\u001b[22mSaving 12.5 x 6.67 in image\n"
     ]
    },
    {
     "data": {
      "image/png": "[encoded data removed]"
     },
     "metadata": {
      "image/png": {
       "height": 420,
       "width": 420
      }
     },
     "output_type": "display_data"
    }
   ],
   "source": [
    "Trip_data_4$month <- ordered(Trip_data_4$month, \n",
    "                             levels=c(\"January\", \"February\", \"March\", \"April\", \"May\", \"June\", \"July\", \"August\", \"September\", \"October\", \"November\", \"December\"))\n",
    "\n",
    "Trip_data_4 %>%  \n",
    "  group_by(member_casual, month) %>% \n",
    "  summarise(number_of_rides = n()) %>% \n",
    "  arrange(member_casual, month)  %>% \n",
    "  ggplot(aes(x = month, y = number_of_rides, fill = member_casual)) +\n",
    "  labs(title =\"Total rides by Members and Casual riders Vs. Month\", x = \"Month\", y= \"Number Of Rides\") +\n",
    "  theme(axis.text.x = element_text(angle = 45)) +\n",
    "  geom_col(width=0.5, position = position_dodge(width=0.5)) +\n",
    "  scale_y_continuous(labels = function(x) format(x, scientific = FALSE))\n",
    "\n",
    "ggsave(\"Total Rides by Month.png\")"
   ]
  },
  {
   "cell_type": "markdown",
   "id": "c60167dc",
   "metadata": {
    "papermill": {
     "duration": 0.031569,
     "end_time": "2024-01-19T10:18:46.065732",
     "exception": false,
     "start_time": "2024-01-19T10:18:46.034163",
     "status": "completed"
    },
    "tags": []
   },
   "source": [
    "* Ride activity betweeen May and October is at its highest for both casual and member riders."
   ]
  },
  {
   "cell_type": "code",
   "execution_count": 24,
   "id": "1584a3cc",
   "metadata": {
    "execution": {
     "iopub.execute_input": "2024-01-19T10:18:46.128738Z",
     "iopub.status.busy": "2024-01-19T10:18:46.126980Z",
     "iopub.status.idle": "2024-01-19T10:18:47.363475Z",
     "shell.execute_reply": "2024-01-19T10:18:47.361361Z"
    },
    "jupyter": {
     "source_hidden": true
    },
    "papermill": {
     "duration": 1.270689,
     "end_time": "2024-01-19T10:18:47.366289",
     "exception": false,
     "start_time": "2024-01-19T10:18:46.095600",
     "status": "completed"
    },
    "tags": []
   },
   "outputs": [
    {
     "name": "stderr",
     "output_type": "stream",
     "text": [
      "\u001b[1m\u001b[22m`summarise()` has grouped output by 'member_casual'. You can override using the\n",
      "`.groups` argument.\n",
      "\u001b[1m\u001b[22mSaving 12.5 x 6.67 in image\n"
     ]
    },
    {
     "data": {
      "image/png": "[encoded data removed]"
     },
     "metadata": {
      "image/png": {
       "height": 420,
       "width": 420
      }
     },
     "output_type": "display_data"
    }
   ],
   "source": [
    "# Averafe ride length depending on the day \n",
    "\n",
    "Trip_data_4 %>%\n",
    "group_by(member_casual, day_of_week) %>%\n",
    "summarise ( count = n(), average_ride_length = mean(ride_length_min)) %>%\n",
    "arrange(member_casual, day_of_week) %>%\n",
    "\n",
    "ggplot(aes(x = day_of_week, y = average_ride_length, fill = member_casual)) +\n",
    "  geom_col(width=0.5, position = position_dodge(width=0.5)) + \n",
    "  labs(title =\"Average ride time of Members and Casual riders Vs. Day of the week\", y = \"Average Ride Length\", x =\"Day of the week\")+\n",
    "  scale_y_continuous(labels = function(x) format(x, scientific = FALSE))\n",
    "\n",
    "ggsave(\"Average ride Time Vs Day of the week.png\")\n",
    "\n"
   ]
  },
  {
   "cell_type": "markdown",
   "id": "c707529c",
   "metadata": {
    "papermill": {
     "duration": 0.030777,
     "end_time": "2024-01-19T10:18:47.427031",
     "exception": false,
     "start_time": "2024-01-19T10:18:47.396254",
     "status": "completed"
    },
    "tags": []
   },
   "source": [
    "* The above grapgh shows that the average ride length in minutes among casual riders is very high compared to annual members as calculated ealier, casual riders have an average ride ride time of 22 minutes compared to members with an average ride time of 12 minutes."
   ]
  },
  {
   "cell_type": "markdown",
   "id": "b22e1551",
   "metadata": {
    "papermill": {
     "duration": 0.02973,
     "end_time": "2024-01-19T10:18:47.486728",
     "exception": false,
     "start_time": "2024-01-19T10:18:47.456998",
     "status": "completed"
    },
    "tags": []
   },
   "source": [
    "## Analyzing the most stations used by riders both casual and member riders"
   ]
  },
  {
   "cell_type": "code",
   "execution_count": 25,
   "id": "d52365e1",
   "metadata": {
    "execution": {
     "iopub.execute_input": "2024-01-19T10:18:47.550514Z",
     "iopub.status.busy": "2024-01-19T10:18:47.548744Z",
     "iopub.status.idle": "2024-01-19T10:18:48.873949Z",
     "shell.execute_reply": "2024-01-19T10:18:48.871439Z"
    },
    "jupyter": {
     "source_hidden": true
    },
    "papermill": {
     "duration": 1.360534,
     "end_time": "2024-01-19T10:18:48.877263",
     "exception": false,
     "start_time": "2024-01-19T10:18:47.516729",
     "status": "completed"
    },
    "tags": []
   },
   "outputs": [
    {
     "name": "stderr",
     "output_type": "stream",
     "text": [
      "\u001b[1m\u001b[22mSelecting by count\n"
     ]
    },
    {
     "data": {
      "text/html": [
       "<table class=\"dataframe\">\n",
       "<caption>A tibble: 5 × 2</caption>\n",
       "<thead>\n",
       "\t<tr><th scope=col>start_station_name</th><th scope=col>count</th></tr>\n",
       "\t<tr><th scope=col>&lt;chr&gt;</th><th scope=col>&lt;int&gt;</th></tr>\n",
       "</thead>\n",
       "<tbody>\n",
       "\t<tr><td><span style=white-space:pre-wrap>Streeter Dr &amp; Grand Ave           </span></td><td>56948</td></tr>\n",
       "\t<tr><td>DuSable Lake Shore Dr &amp; Monroe St </td><td>31241</td></tr>\n",
       "\t<tr><td>Millennium Park                   </td><td>24981</td></tr>\n",
       "\t<tr><td><span style=white-space:pre-wrap>Michigan Ave &amp; Oak St             </span></td><td>24834</td></tr>\n",
       "\t<tr><td>DuSable Lake Shore Dr &amp; North Blvd</td><td>23130</td></tr>\n",
       "</tbody>\n",
       "</table>\n"
      ],
      "text/latex": [
       "A tibble: 5 × 2\n",
       "\\begin{tabular}{ll}\n",
       " start\\_station\\_name & count\\\\\n",
       " <chr> & <int>\\\\\n",
       "\\hline\n",
       "\t Streeter Dr \\& Grand Ave            & 56948\\\\\n",
       "\t DuSable Lake Shore Dr \\& Monroe St  & 31241\\\\\n",
       "\t Millennium Park                    & 24981\\\\\n",
       "\t Michigan Ave \\& Oak St              & 24834\\\\\n",
       "\t DuSable Lake Shore Dr \\& North Blvd & 23130\\\\\n",
       "\\end{tabular}\n"
      ],
      "text/markdown": [
       "\n",
       "A tibble: 5 × 2\n",
       "\n",
       "| start_station_name &lt;chr&gt; | count &lt;int&gt; |\n",
       "|---|---|\n",
       "| Streeter Dr &amp; Grand Ave            | 56948 |\n",
       "| DuSable Lake Shore Dr &amp; Monroe St  | 31241 |\n",
       "| Millennium Park                    | 24981 |\n",
       "| Michigan Ave &amp; Oak St              | 24834 |\n",
       "| DuSable Lake Shore Dr &amp; North Blvd | 23130 |\n",
       "\n"
      ],
      "text/plain": [
       "  start_station_name                 count\n",
       "1 Streeter Dr & Grand Ave            56948\n",
       "2 DuSable Lake Shore Dr & Monroe St  31241\n",
       "3 Millennium Park                    24981\n",
       "4 Michigan Ave & Oak St              24834\n",
       "5 DuSable Lake Shore Dr & North Blvd 23130"
      ]
     },
     "metadata": {},
     "output_type": "display_data"
    }
   ],
   "source": [
    "# Analyzing most used stations within the data sets especially by casual riders \n",
    "\n",
    "Trip_data_4 %>% \n",
    "  filter(!(is.na(start_station_name))) %>% \n",
    "  filter(member_casual == \"casual\") %>% \n",
    "  group_by(start_station_name) %>% \n",
    "  summarize(count=n()) %>% \n",
    "  arrange(-count) %>% \n",
    "  top_n(5)"
   ]
  },
  {
   "cell_type": "code",
   "execution_count": 26,
   "id": "0a3ce1d3",
   "metadata": {
    "execution": {
     "iopub.execute_input": "2024-01-19T10:18:48.944941Z",
     "iopub.status.busy": "2024-01-19T10:18:48.943250Z",
     "iopub.status.idle": "2024-01-19T10:18:51.817971Z",
     "shell.execute_reply": "2024-01-19T10:18:51.815701Z"
    },
    "jupyter": {
     "source_hidden": true
    },
    "papermill": {
     "duration": 2.911607,
     "end_time": "2024-01-19T10:18:51.820668",
     "exception": false,
     "start_time": "2024-01-19T10:18:48.909061",
     "status": "completed"
    },
    "tags": []
   },
   "outputs": [
    {
     "name": "stderr",
     "output_type": "stream",
     "text": [
      "\u001b[1m\u001b[22mSelecting by count\n",
      "\u001b[1m\u001b[22mSaving 12.5 x 6.67 in image\n"
     ]
    },
    {
     "data": {
      "image/png": "[encoded data removed]"
     },
     "metadata": {
      "image/png": {
       "height": 420,
       "width": 420
      }
     },
     "output_type": "display_data"
    }
   ],
   "source": [
    "# Visual representation of most used stations by casual riders \n",
    "\n",
    "Trip_data_4 %>% \n",
    "  filter(!(is.na(start_station_name))) %>% \n",
    "  filter(member_casual == \"casual\") %>% \n",
    "  group_by(start_station_name) %>% \n",
    "  summarize(count=n()) %>% \n",
    "  arrange(-count) %>% \n",
    "  top_n(5) %>%\n",
    "ggplot(aes(x=start_station_name, y=count, fill=count)) +\n",
    "  geom_bar(stat = \"identity\") +\n",
    "coord_flip()+\n",
    "  labs(x=\"Start Station name \", y=\"Number of rides\", title=\"Top 5 starting stations for casual riders\")\n",
    "\n",
    "ggsave(\"Top 5 starting stations for casual riders.png\")"
   ]
  },
  {
   "cell_type": "markdown",
   "id": "5881ec56",
   "metadata": {
    "papermill": {
     "duration": 0.03259,
     "end_time": "2024-01-19T10:18:51.886090",
     "exception": false,
     "start_time": "2024-01-19T10:18:51.853500",
     "status": "completed"
    },
    "tags": []
   },
   "source": [
    "* In the above chart Streeter Dr and Grand Ave is the most used starting station for casual riders this can be attributed by it being  situated near a park and shoreline and as such very much popular among tourists and visitors."
   ]
  },
  {
   "cell_type": "code",
   "execution_count": 27,
   "id": "d94bd2e5",
   "metadata": {
    "execution": {
     "iopub.execute_input": "2024-01-19T10:18:51.956209Z",
     "iopub.status.busy": "2024-01-19T10:18:51.954418Z",
     "iopub.status.idle": "2024-01-19T10:18:55.387851Z",
     "shell.execute_reply": "2024-01-19T10:18:55.385912Z"
    },
    "jupyter": {
     "source_hidden": true
    },
    "papermill": {
     "duration": 3.471459,
     "end_time": "2024-01-19T10:18:55.390591",
     "exception": false,
     "start_time": "2024-01-19T10:18:51.919132",
     "status": "completed"
    },
    "tags": []
   },
   "outputs": [
    {
     "name": "stderr",
     "output_type": "stream",
     "text": [
      "\u001b[1m\u001b[22mSelecting by count\n"
     ]
    },
    {
     "data": {
      "text/html": [
       "<table class=\"dataframe\">\n",
       "<caption>A tibble: 5 × 2</caption>\n",
       "<thead>\n",
       "\t<tr><th scope=col>start_station_name</th><th scope=col>count</th></tr>\n",
       "\t<tr><th scope=col>&lt;chr&gt;</th><th scope=col>&lt;int&gt;</th></tr>\n",
       "</thead>\n",
       "<tbody>\n",
       "\t<tr><td><span style=white-space:pre-wrap>Kingsbury St &amp; Kinzie St    </span></td><td>24506</td></tr>\n",
       "\t<tr><td><span style=white-space:pre-wrap>Clark St &amp; Elm St           </span></td><td>21605</td></tr>\n",
       "\t<tr><td><span style=white-space:pre-wrap>Wells St &amp; Concord Ln       </span></td><td>20952</td></tr>\n",
       "\t<tr><td><span style=white-space:pre-wrap>University Ave &amp; 57th St    </span></td><td>19529</td></tr>\n",
       "\t<tr><td>Clinton St &amp; Washington Blvd</td><td>19375</td></tr>\n",
       "</tbody>\n",
       "</table>\n"
      ],
      "text/latex": [
       "A tibble: 5 × 2\n",
       "\\begin{tabular}{ll}\n",
       " start\\_station\\_name & count\\\\\n",
       " <chr> & <int>\\\\\n",
       "\\hline\n",
       "\t Kingsbury St \\& Kinzie St     & 24506\\\\\n",
       "\t Clark St \\& Elm St            & 21605\\\\\n",
       "\t Wells St \\& Concord Ln        & 20952\\\\\n",
       "\t University Ave \\& 57th St     & 19529\\\\\n",
       "\t Clinton St \\& Washington Blvd & 19375\\\\\n",
       "\\end{tabular}\n"
      ],
      "text/markdown": [
       "\n",
       "A tibble: 5 × 2\n",
       "\n",
       "| start_station_name &lt;chr&gt; | count &lt;int&gt; |\n",
       "|---|---|\n",
       "| Kingsbury St &amp; Kinzie St     | 24506 |\n",
       "| Clark St &amp; Elm St            | 21605 |\n",
       "| Wells St &amp; Concord Ln        | 20952 |\n",
       "| University Ave &amp; 57th St     | 19529 |\n",
       "| Clinton St &amp; Washington Blvd | 19375 |\n",
       "\n"
      ],
      "text/plain": [
       "  start_station_name           count\n",
       "1 Kingsbury St & Kinzie St     24506\n",
       "2 Clark St & Elm St            21605\n",
       "3 Wells St & Concord Ln        20952\n",
       "4 University Ave & 57th St     19529\n",
       "5 Clinton St & Washington Blvd 19375"
      ]
     },
     "metadata": {},
     "output_type": "display_data"
    }
   ],
   "source": [
    "# Analyzing the most used stations by member riders\n",
    "\n",
    "Trip_data_4 %>%\n",
    "filter(!(is.na(start_station_name)))%>%\n",
    "filter(member_casual == \"member\") %>%\n",
    "group_by(start_station_name) %>%\n",
    "summarize(count= n()) %>%\n",
    "arrange (-count)%>%\n",
    "top_n(5)\n"
   ]
  },
  {
   "cell_type": "code",
   "execution_count": 28,
   "id": "d2c754c2",
   "metadata": {
    "execution": {
     "iopub.execute_input": "2024-01-19T10:18:55.461153Z",
     "iopub.status.busy": "2024-01-19T10:18:55.459360Z",
     "iopub.status.idle": "2024-01-19T10:18:57.063171Z",
     "shell.execute_reply": "2024-01-19T10:18:57.061112Z"
    },
    "jupyter": {
     "source_hidden": true
    },
    "papermill": {
     "duration": 1.642262,
     "end_time": "2024-01-19T10:18:57.066107",
     "exception": false,
     "start_time": "2024-01-19T10:18:55.423845",
     "status": "completed"
    },
    "tags": []
   },
   "outputs": [
    {
     "name": "stderr",
     "output_type": "stream",
     "text": [
      "\u001b[1m\u001b[22mSelecting by count\n"
     ]
    },
    {
     "data": {
      "image/png": "[encoded data removed]"
     },
     "metadata": {
      "image/png": {
       "height": 420,
       "width": 420
      }
     },
     "output_type": "display_data"
    }
   ],
   "source": [
    "# Visualization of most used stations by member riders\n",
    "\n",
    "Trip_data_4 %>% \n",
    "  filter(!(is.na(start_station_name))) %>% \n",
    "  filter(member_casual == \"member\") %>% \n",
    "  group_by(start_station_name) %>% \n",
    "  summarize(count=n()) %>% \n",
    "  arrange(-count) %>% \n",
    "  top_n(5) %>%\n",
    "ggplot(aes(x=start_station_name, y=count, fill=count)) +\n",
    "  geom_bar(stat = \"identity\") +\n",
    "coord_flip()+\n",
    "  labs(x=\"Start station name\", y=\"Number of rides\", title=\"Top 5 starting stations for member riders\")"
   ]
  },
  {
   "cell_type": "markdown",
   "id": "0f2e0d7b",
   "metadata": {
    "papermill": {
     "duration": 0.034849,
     "end_time": "2024-01-19T10:18:57.134622",
     "exception": false,
     "start_time": "2024-01-19T10:18:57.099773",
     "status": "completed"
    },
    "tags": []
   },
   "source": [
    "* Kingsbury St and Kinzie st is the most popular start station amongst member riders followed by clark and elm street."
   ]
  },
  {
   "cell_type": "markdown",
   "id": "f6bfb05f",
   "metadata": {
    "papermill": {
     "duration": 0.033739,
     "end_time": "2024-01-19T10:18:57.201862",
     "exception": false,
     "start_time": "2024-01-19T10:18:57.168123",
     "status": "completed"
    },
    "tags": []
   },
   "source": [
    "# Share phase\n",
    "For purposes of this project, I will share the notebook  and then publish it on kaggle.\n",
    "\n",
    "\n"
   ]
  },
  {
   "cell_type": "markdown",
   "id": "0d267e66",
   "metadata": {
    "papermill": {
     "duration": 0.033089,
     "end_time": "2024-01-19T10:18:57.268116",
     "exception": false,
     "start_time": "2024-01-19T10:18:57.235027",
     "status": "completed"
    },
    "tags": []
   },
   "source": [
    "# Act Phase\n",
    "\n",
    "## Key findings/ Insights\n",
    "\n",
    "* Casual riders have a higher average length ride of 22 minutes compared to 12 minutes for member riders.\n",
    "* The bulk of riders both from casual and annual members fall under rides which take 20 minutes or less.\n",
    "* Members tend to take more rides during the week compared to casual riders, whereas casual riders tend to have more rides during the weekend.\n",
    "* The average ride length in minutes during the week among casual riders is very high compared to annual members.\n",
    "\n",
    "\n",
    "## Additional analysis to consider \n",
    "\n",
    "* Collect data on bike routes during the full rental period, to analyze if certain routes contribute to the selection of the type of bike used.\n",
    "* Collect data on usage of single-ride pass or full-day pass, to analyze how pricing may impact usage for casual riders.\n",
    "\n",
    "# Conclusion \n",
    "\n",
    "There is an opportunity to convince casual riders to convert to member plans based on the analysis done as casual riders spend more time biking compared to current annual members. Such information is important as it creates the opportunity to create targeted surveys to gain valuable insights specifically about what makes the service more worthwile as an annual subscriber.\n",
    "\n",
    "# Recomendations \n",
    "\n",
    "1. Promote Annual Memberships with Short Ride Incentives:\n",
    "\n",
    "Design targeted social media campaigns on platforms such as Facebook, Instagram, and Twitter to reach casual riders. Create engaging content that highlights the benefits of annual memberships, emphasizing cost savings, convenience, and exclusive promotions for members highlighting the fact that annual members account for the majority (59%) of rides. Emphasize the convenience and cost-effectiveness of annual memberships, especially for short rides of 20 minutes or less, which constitute the bulk of both casual and member rides. Consider offering special promotions or discounts for annual memberships that specifically target short-distance riders.\n",
    "\n",
    "2. Target Casual Riders with Weekend Membership Offers:\n",
    "\n",
    "Since casual riders tend to have more rides during the weekend, create targeted marketing campaigns that encourage weekend riders to consider annual memberships. Promotions could include weekend-specific membership discounts or benefits, such as extended ride durations for weekend rides. Emphasize the flexibility and value of annual memberships for individuals who use bikes primarily during weekends. Create digital events or competitions that encourage casual riders to participate and, as a reward, offer exclusive discounts or perks for transitioning to annual memberships\n",
    "\n",
    "3. Highlight Bike Type Preferences for Marketing Strategies:\n",
    "\n",
    "Design targeted promotions or discounts based on bike type preferences. For example, consider offering special rates for annual memberships that include unlimited access to electric bikes, appealing to both casual and annual riders who enjoy the efficiency and speed of electric bikes. Highlighting the availability of preferred bike types can incentivize potential members to opt for annual memberships."
   ]
  }
 ],
 "metadata": {
  "kaggle": {
   "accelerator": "none",
   "dataSources": [
    {
     "datasetId": 4255220,
     "sourceId": 7330503,
     "sourceType": "datasetVersion"
    }
   ],
   "dockerImageVersionId": 30618,
   "isGpuEnabled": false,
   "isInternetEnabled": true,
   "language": "r",
   "sourceType": "notebook"
  },
  "kernelspec": {
   "display_name": "R",
   "language": "R",
   "name": "ir"
  },
  "language_info": {
   "codemirror_mode": "r",
   "file_extension": ".r",
   "mimetype": "text/x-r-source",
   "name": "R",
   "pygments_lexer": "r",
   "version": "4.0.5"
  },
  "papermill": {
   "default_parameters": {},
   "duration": 306.418159,
   "end_time": "2024-01-19T10:18:57.929808",
   "environment_variables": {},
   "exception": null,
   "input_path": "__notebook__.ipynb",
   "output_path": "__notebook__.ipynb",
   "parameters": {},
   "start_time": "2024-01-19T10:13:51.511649",
   "version": "2.5.0"
  }
 },
 "nbformat": 4,
 "nbformat_minor": 5
}
